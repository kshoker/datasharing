{
  "nbformat": 4,
  "nbformat_minor": 0,
  "metadata": {
    "kernelspec": {
      "display_name": "Python 3",
      "language": "python",
      "name": "python3"
    },
    "language_info": {
      "codemirror_mode": {
        "name": "ipython",
        "version": 3
      },
      "file_extension": ".py",
      "mimetype": "text/x-python",
      "name": "python",
      "nbconvert_exporter": "python",
      "pygments_lexer": "ipython3",
      "version": "3.7.4"
    },
    "colab": {
      "name": "KShoker_Practicum_Proj1.ipynb",
      "provenance": [],
      "collapsed_sections": []
    }
  },
  "cells": [
    {
      "cell_type": "markdown",
      "metadata": {
        "id": "bd9YS6ObtsGE"
      },
      "source": [
        "## Analyzing borrowers’ risk of defaulting\n",
        "\n",
        "Your project is to prepare a report for a bank’s loan division. You’ll need to find out if a customer’s marital status and number of children has an impact on whether they will default on a loan. The bank already has some data on customers’ credit worthiness.\n",
        "\n",
        "Your report will be considered when building a **credit scoring** of a potential customer. A ** credit scoring ** is used to evaluate the ability of a potential borrower to repay their loan."
      ]
    },
    {
      "cell_type": "markdown",
      "metadata": {
        "id": "UdVLtb41tsGG"
      },
      "source": [
        "### Step 1. Open the data file and have a look at the general information. "
      ]
    },
    {
      "cell_type": "code",
      "metadata": {
        "id": "4TiFiKXntsGH",
        "colab": {
          "base_uri": "https://localhost:8080/",
          "height": 357
        },
        "outputId": "24aa399d-27d2-440a-d1d3-c05acea63fb6"
      },
      "source": [
        "from google.colab import drive\n",
        "drive.mount('/content/drive')\n",
        "\n",
        "# create dataframe from file and observe information about it\n",
        "import pandas as pd\n",
        "\n",
        "credit_scoring = '/content/drive/My Drive/Yandex_Practicum_DataScience/Project1/credit_scoring_eng.csv'\n",
        "df = pd.read_csv(credit_scoring)\n",
        "df.info()"
      ],
      "execution_count": null,
      "outputs": [
        {
          "output_type": "stream",
          "text": [
            "Drive already mounted at /content/drive; to attempt to forcibly remount, call drive.mount(\"/content/drive\", force_remount=True).\n",
            "<class 'pandas.core.frame.DataFrame'>\n",
            "RangeIndex: 21525 entries, 0 to 21524\n",
            "Data columns (total 12 columns):\n",
            " #   Column            Non-Null Count  Dtype  \n",
            "---  ------            --------------  -----  \n",
            " 0   children          21525 non-null  int64  \n",
            " 1   days_employed     19351 non-null  float64\n",
            " 2   dob_years         21525 non-null  int64  \n",
            " 3   education         21525 non-null  object \n",
            " 4   education_id      21525 non-null  int64  \n",
            " 5   family_status     21525 non-null  object \n",
            " 6   family_status_id  21525 non-null  int64  \n",
            " 7   gender            21525 non-null  object \n",
            " 8   income_type       21525 non-null  object \n",
            " 9   debt              21525 non-null  int64  \n",
            " 10  total_income      19351 non-null  float64\n",
            " 11  purpose           21525 non-null  object \n",
            "dtypes: float64(2), int64(5), object(5)\n",
            "memory usage: 2.0+ MB\n"
          ],
          "name": "stdout"
        }
      ]
    },
    {
      "cell_type": "code",
      "metadata": {
        "id": "dXLO5fofAo_d",
        "colab": {
          "base_uri": "https://localhost:8080/",
          "height": 238
        },
        "outputId": "cd6d54f6-7bfa-4d6d-b504-9fbfc9682cd2"
      },
      "source": [
        "# determine number of null values in columns\n",
        "df.isna().sum()"
      ],
      "execution_count": null,
      "outputs": [
        {
          "output_type": "execute_result",
          "data": {
            "text/plain": [
              "children               0\n",
              "days_employed       2174\n",
              "dob_years              0\n",
              "education              0\n",
              "education_id           0\n",
              "family_status          0\n",
              "family_status_id       0\n",
              "gender                 0\n",
              "income_type            0\n",
              "debt                   0\n",
              "total_income        2174\n",
              "purpose                0\n",
              "dtype: int64"
            ]
          },
          "metadata": {
            "tags": []
          },
          "execution_count": 2
        }
      ]
    },
    {
      "cell_type": "code",
      "metadata": {
        "id": "zkN_GfwoySGJ",
        "colab": {
          "base_uri": "https://localhost:8080/",
          "height": 359
        },
        "outputId": "2cffc885-df05-4e59-d742-93d6c2c15803"
      },
      "source": [
        "# get sense of data by observing first 10 rows\n",
        "df.head(10)"
      ],
      "execution_count": null,
      "outputs": [
        {
          "output_type": "execute_result",
          "data": {
            "text/html": [
              "<div>\n",
              "<style scoped>\n",
              "    .dataframe tbody tr th:only-of-type {\n",
              "        vertical-align: middle;\n",
              "    }\n",
              "\n",
              "    .dataframe tbody tr th {\n",
              "        vertical-align: top;\n",
              "    }\n",
              "\n",
              "    .dataframe thead th {\n",
              "        text-align: right;\n",
              "    }\n",
              "</style>\n",
              "<table border=\"1\" class=\"dataframe\">\n",
              "  <thead>\n",
              "    <tr style=\"text-align: right;\">\n",
              "      <th></th>\n",
              "      <th>children</th>\n",
              "      <th>days_employed</th>\n",
              "      <th>dob_years</th>\n",
              "      <th>education</th>\n",
              "      <th>education_id</th>\n",
              "      <th>family_status</th>\n",
              "      <th>family_status_id</th>\n",
              "      <th>gender</th>\n",
              "      <th>income_type</th>\n",
              "      <th>debt</th>\n",
              "      <th>total_income</th>\n",
              "      <th>purpose</th>\n",
              "    </tr>\n",
              "  </thead>\n",
              "  <tbody>\n",
              "    <tr>\n",
              "      <th>0</th>\n",
              "      <td>1</td>\n",
              "      <td>-8437.673028</td>\n",
              "      <td>42</td>\n",
              "      <td>bachelor's degree</td>\n",
              "      <td>0</td>\n",
              "      <td>married</td>\n",
              "      <td>0</td>\n",
              "      <td>F</td>\n",
              "      <td>employee</td>\n",
              "      <td>0</td>\n",
              "      <td>40620.102</td>\n",
              "      <td>purchase of the house</td>\n",
              "    </tr>\n",
              "    <tr>\n",
              "      <th>1</th>\n",
              "      <td>1</td>\n",
              "      <td>-4024.803754</td>\n",
              "      <td>36</td>\n",
              "      <td>secondary education</td>\n",
              "      <td>1</td>\n",
              "      <td>married</td>\n",
              "      <td>0</td>\n",
              "      <td>F</td>\n",
              "      <td>employee</td>\n",
              "      <td>0</td>\n",
              "      <td>17932.802</td>\n",
              "      <td>car purchase</td>\n",
              "    </tr>\n",
              "    <tr>\n",
              "      <th>2</th>\n",
              "      <td>0</td>\n",
              "      <td>-5623.422610</td>\n",
              "      <td>33</td>\n",
              "      <td>Secondary Education</td>\n",
              "      <td>1</td>\n",
              "      <td>married</td>\n",
              "      <td>0</td>\n",
              "      <td>M</td>\n",
              "      <td>employee</td>\n",
              "      <td>0</td>\n",
              "      <td>23341.752</td>\n",
              "      <td>purchase of the house</td>\n",
              "    </tr>\n",
              "    <tr>\n",
              "      <th>3</th>\n",
              "      <td>3</td>\n",
              "      <td>-4124.747207</td>\n",
              "      <td>32</td>\n",
              "      <td>secondary education</td>\n",
              "      <td>1</td>\n",
              "      <td>married</td>\n",
              "      <td>0</td>\n",
              "      <td>M</td>\n",
              "      <td>employee</td>\n",
              "      <td>0</td>\n",
              "      <td>42820.568</td>\n",
              "      <td>supplementary education</td>\n",
              "    </tr>\n",
              "    <tr>\n",
              "      <th>4</th>\n",
              "      <td>0</td>\n",
              "      <td>340266.072047</td>\n",
              "      <td>53</td>\n",
              "      <td>secondary education</td>\n",
              "      <td>1</td>\n",
              "      <td>civil partnership</td>\n",
              "      <td>1</td>\n",
              "      <td>F</td>\n",
              "      <td>retiree</td>\n",
              "      <td>0</td>\n",
              "      <td>25378.572</td>\n",
              "      <td>to have a wedding</td>\n",
              "    </tr>\n",
              "    <tr>\n",
              "      <th>5</th>\n",
              "      <td>0</td>\n",
              "      <td>-926.185831</td>\n",
              "      <td>27</td>\n",
              "      <td>bachelor's degree</td>\n",
              "      <td>0</td>\n",
              "      <td>civil partnership</td>\n",
              "      <td>1</td>\n",
              "      <td>M</td>\n",
              "      <td>business</td>\n",
              "      <td>0</td>\n",
              "      <td>40922.170</td>\n",
              "      <td>purchase of the house</td>\n",
              "    </tr>\n",
              "    <tr>\n",
              "      <th>6</th>\n",
              "      <td>0</td>\n",
              "      <td>-2879.202052</td>\n",
              "      <td>43</td>\n",
              "      <td>bachelor's degree</td>\n",
              "      <td>0</td>\n",
              "      <td>married</td>\n",
              "      <td>0</td>\n",
              "      <td>F</td>\n",
              "      <td>business</td>\n",
              "      <td>0</td>\n",
              "      <td>38484.156</td>\n",
              "      <td>housing transactions</td>\n",
              "    </tr>\n",
              "    <tr>\n",
              "      <th>7</th>\n",
              "      <td>0</td>\n",
              "      <td>-152.779569</td>\n",
              "      <td>50</td>\n",
              "      <td>SECONDARY EDUCATION</td>\n",
              "      <td>1</td>\n",
              "      <td>married</td>\n",
              "      <td>0</td>\n",
              "      <td>M</td>\n",
              "      <td>employee</td>\n",
              "      <td>0</td>\n",
              "      <td>21731.829</td>\n",
              "      <td>education</td>\n",
              "    </tr>\n",
              "    <tr>\n",
              "      <th>8</th>\n",
              "      <td>2</td>\n",
              "      <td>-6929.865299</td>\n",
              "      <td>35</td>\n",
              "      <td>BACHELOR'S DEGREE</td>\n",
              "      <td>0</td>\n",
              "      <td>civil partnership</td>\n",
              "      <td>1</td>\n",
              "      <td>F</td>\n",
              "      <td>employee</td>\n",
              "      <td>0</td>\n",
              "      <td>15337.093</td>\n",
              "      <td>having a wedding</td>\n",
              "    </tr>\n",
              "    <tr>\n",
              "      <th>9</th>\n",
              "      <td>0</td>\n",
              "      <td>-2188.756445</td>\n",
              "      <td>41</td>\n",
              "      <td>secondary education</td>\n",
              "      <td>1</td>\n",
              "      <td>married</td>\n",
              "      <td>0</td>\n",
              "      <td>M</td>\n",
              "      <td>employee</td>\n",
              "      <td>0</td>\n",
              "      <td>23108.150</td>\n",
              "      <td>purchase of the house for my family</td>\n",
              "    </tr>\n",
              "  </tbody>\n",
              "</table>\n",
              "</div>"
            ],
            "text/plain": [
              "   children  days_employed  ...  total_income                              purpose\n",
              "0         1   -8437.673028  ...     40620.102                purchase of the house\n",
              "1         1   -4024.803754  ...     17932.802                         car purchase\n",
              "2         0   -5623.422610  ...     23341.752                purchase of the house\n",
              "3         3   -4124.747207  ...     42820.568              supplementary education\n",
              "4         0  340266.072047  ...     25378.572                    to have a wedding\n",
              "5         0    -926.185831  ...     40922.170                purchase of the house\n",
              "6         0   -2879.202052  ...     38484.156                 housing transactions\n",
              "7         0    -152.779569  ...     21731.829                            education\n",
              "8         2   -6929.865299  ...     15337.093                     having a wedding\n",
              "9         0   -2188.756445  ...     23108.150  purchase of the house for my family\n",
              "\n",
              "[10 rows x 12 columns]"
            ]
          },
          "metadata": {
            "tags": []
          },
          "execution_count": 3
        }
      ]
    },
    {
      "cell_type": "code",
      "metadata": {
        "id": "FSMcLRotE661",
        "colab": {
          "base_uri": "https://localhost:8080/",
          "height": 1000
        },
        "outputId": "d73ac347-d8d5-49fb-c636-db09dffead9a"
      },
      "source": [
        "# observe values for each column and their count\n",
        "for col in df.columns:\n",
        "  print(df[col].value_counts())\n",
        "  print()\n",
        "  print()"
      ],
      "execution_count": null,
      "outputs": [
        {
          "output_type": "stream",
          "text": [
            " 0     14149\n",
            " 1      4818\n",
            " 2      2055\n",
            " 3       330\n",
            " 20       76\n",
            "-1        47\n",
            " 4        41\n",
            " 5         9\n",
            "Name: children, dtype: int64\n",
            "\n",
            "\n",
            "-986.927316     1\n",
            "-7026.359174    1\n",
            "-4236.274243    1\n",
            "-6620.396473    1\n",
            "-1238.560080    1\n",
            "               ..\n",
            "-2849.351119    1\n",
            "-5619.328204    1\n",
            "-448.829898     1\n",
            "-1687.038672    1\n",
            "-582.538413     1\n",
            "Name: days_employed, Length: 19351, dtype: int64\n",
            "\n",
            "\n",
            "35    617\n",
            "40    609\n",
            "41    607\n",
            "34    603\n",
            "38    598\n",
            "42    597\n",
            "33    581\n",
            "39    573\n",
            "31    560\n",
            "36    555\n",
            "44    547\n",
            "29    545\n",
            "30    540\n",
            "48    538\n",
            "37    537\n",
            "50    514\n",
            "43    513\n",
            "32    510\n",
            "49    508\n",
            "28    503\n",
            "45    497\n",
            "27    493\n",
            "56    487\n",
            "52    484\n",
            "47    480\n",
            "54    479\n",
            "46    475\n",
            "58    461\n",
            "57    460\n",
            "53    459\n",
            "51    448\n",
            "59    444\n",
            "55    443\n",
            "26    408\n",
            "60    377\n",
            "25    357\n",
            "61    355\n",
            "62    352\n",
            "63    269\n",
            "64    265\n",
            "24    264\n",
            "23    254\n",
            "65    194\n",
            "66    183\n",
            "22    183\n",
            "67    167\n",
            "21    111\n",
            "0     101\n",
            "68     99\n",
            "69     85\n",
            "70     65\n",
            "71     58\n",
            "20     51\n",
            "72     33\n",
            "19     14\n",
            "73      8\n",
            "74      6\n",
            "75      1\n",
            "Name: dob_years, dtype: int64\n",
            "\n",
            "\n",
            "secondary education    13750\n",
            "bachelor's degree       4718\n",
            "SECONDARY EDUCATION      772\n",
            "Secondary Education      711\n",
            "some college             668\n",
            "BACHELOR'S DEGREE        274\n",
            "Bachelor's Degree        268\n",
            "primary education        250\n",
            "Some College              47\n",
            "SOME COLLEGE              29\n",
            "PRIMARY EDUCATION         17\n",
            "Primary Education         15\n",
            "graduate degree            4\n",
            "Graduate Degree            1\n",
            "GRADUATE DEGREE            1\n",
            "Name: education, dtype: int64\n",
            "\n",
            "\n",
            "1    15233\n",
            "0     5260\n",
            "2      744\n",
            "3      282\n",
            "4        6\n",
            "Name: education_id, dtype: int64\n",
            "\n",
            "\n",
            "married              12380\n",
            "civil partnership     4177\n",
            "unmarried             2813\n",
            "divorced              1195\n",
            "widow / widower        960\n",
            "Name: family_status, dtype: int64\n",
            "\n",
            "\n",
            "0    12380\n",
            "1     4177\n",
            "4     2813\n",
            "3     1195\n",
            "2      960\n",
            "Name: family_status_id, dtype: int64\n",
            "\n",
            "\n",
            "F      14236\n",
            "M       7288\n",
            "XNA        1\n",
            "Name: gender, dtype: int64\n",
            "\n",
            "\n",
            "employee                       11119\n",
            "business                        5085\n",
            "retiree                         3856\n",
            "civil servant                   1459\n",
            "unemployed                         2\n",
            "entrepreneur                       2\n",
            "paternity / maternity leave        1\n",
            "student                            1\n",
            "Name: income_type, dtype: int64\n",
            "\n",
            "\n",
            "0    19784\n",
            "1     1741\n",
            "Name: debt, dtype: int64\n",
            "\n",
            "\n",
            "17312.717    2\n",
            "31791.384    2\n",
            "42413.096    2\n",
            "54857.666    1\n",
            "26935.722    1\n",
            "            ..\n",
            "48796.341    1\n",
            "34774.610    1\n",
            "15710.698    1\n",
            "19232.334    1\n",
            "9591.824     1\n",
            "Name: total_income, Length: 19348, dtype: int64\n",
            "\n",
            "\n",
            "wedding ceremony                            797\n",
            "having a wedding                            777\n",
            "to have a wedding                           774\n",
            "real estate transactions                    676\n",
            "buy commercial real estate                  664\n",
            "housing transactions                        653\n",
            "buying property for renting out             653\n",
            "transactions with commercial real estate    651\n",
            "purchase of the house                       647\n",
            "housing                                     647\n",
            "purchase of the house for my family         641\n",
            "construction of own property                635\n",
            "property                                    634\n",
            "transactions with my real estate            630\n",
            "building a real estate                      626\n",
            "buy real estate                             624\n",
            "building a property                         620\n",
            "purchase of my own house                    620\n",
            "housing renovation                          612\n",
            "buy residential real estate                 607\n",
            "buying my own car                           505\n",
            "going to university                         496\n",
            "car                                         495\n",
            "second-hand car purchase                    489\n",
            "to own a car                                480\n",
            "buying a second-hand car                    479\n",
            "cars                                        478\n",
            "to buy a car                                472\n",
            "car purchase                                462\n",
            "supplementary education                     462\n",
            "purchase of a car                           455\n",
            "university education                        453\n",
            "to get a supplementary education            447\n",
            "education                                   447\n",
            "getting an education                        443\n",
            "profile education                           436\n",
            "getting higher education                    426\n",
            "to become educated                          412\n",
            "Name: purpose, dtype: int64\n",
            "\n",
            "\n"
          ],
          "name": "stdout"
        }
      ]
    },
    {
      "cell_type": "code",
      "metadata": {
        "id": "qfX0dWsTQQCw",
        "colab": {
          "base_uri": "https://localhost:8080/",
          "height": 279
        },
        "outputId": "9ac632cd-3809-4a80-821a-7f28f8051c24"
      },
      "source": [
        "# discrete variable, debt, plotted in bar chart to\n",
        "# observe data patterns and outliers for columns with numeric values\n",
        "\n",
        "df['debt'].value_counts().plot(kind='bar')"
      ],
      "execution_count": null,
      "outputs": [
        {
          "output_type": "execute_result",
          "data": {
            "text/plain": [
              "<matplotlib.axes._subplots.AxesSubplot at 0x7fc279c7f860>"
            ]
          },
          "metadata": {
            "tags": []
          },
          "execution_count": 5
        },
        {
          "output_type": "display_data",
          "data": {
            "image/png": "[encoded data removed]",
            "text/plain": [
              "<Figure size 432x288 with 1 Axes>"
            ]
          },
          "metadata": {
            "tags": [],
            "needs_background": "light"
          }
        }
      ]
    },
    {
      "cell_type": "code",
      "metadata": {
        "id": "pFpJavoqFSGj",
        "colab": {
          "base_uri": "https://localhost:8080/",
          "height": 279
        },
        "outputId": "9557a356-6128-4c80-d568-1afce5bf90cb"
      },
      "source": [
        "# discrete variable, family_status_id, plotted in bar chart to\n",
        "# observe data patterns and outliers for columns with numeric values\n",
        "\n",
        "df['family_status_id'].value_counts().plot(kind='bar')"
      ],
      "execution_count": null,
      "outputs": [
        {
          "output_type": "execute_result",
          "data": {
            "text/plain": [
              "<matplotlib.axes._subplots.AxesSubplot at 0x7fc279bdfef0>"
            ]
          },
          "metadata": {
            "tags": []
          },
          "execution_count": 6
        },
        {
          "output_type": "display_data",
          "data": {
            "image/png": "[encoded data removed]",
            "text/plain": [
              "<Figure size 432x288 with 1 Axes>"
            ]
          },
          "metadata": {
            "tags": [],
            "needs_background": "light"
          }
        }
      ]
    },
    {
      "cell_type": "code",
      "metadata": {
        "id": "cA3MZCbONAuc",
        "colab": {
          "base_uri": "https://localhost:8080/",
          "height": 279
        },
        "outputId": "bf5f8fa7-0256-4deb-fb6c-2b69e973560e"
      },
      "source": [
        "# discrete variable, education_id, plotted in bar chart to\n",
        "# observe data patterns and outliers for columns with numeric values\n",
        "\n",
        "df['education_id'].value_counts().plot(kind='bar')"
      ],
      "execution_count": null,
      "outputs": [
        {
          "output_type": "execute_result",
          "data": {
            "text/plain": [
              "<matplotlib.axes._subplots.AxesSubplot at 0x7fc2797095f8>"
            ]
          },
          "metadata": {
            "tags": []
          },
          "execution_count": 7
        },
        {
          "output_type": "display_data",
          "data": {
            "image/png": "[encoded data removed]",
            "text/plain": [
              "<Figure size 432x288 with 1 Axes>"
            ]
          },
          "metadata": {
            "tags": [],
            "needs_background": "light"
          }
        }
      ]
    },
    {
      "cell_type": "code",
      "metadata": {
        "id": "BLliMCW8vdJC",
        "colab": {
          "base_uri": "https://localhost:8080/",
          "height": 759
        },
        "outputId": "52d97ad6-18a8-441c-8efd-b5abe5019832"
      },
      "source": [
        "# observe data patterns an outliers for columns with numeric values\n",
        "hist = df.hist(figsize=(20,20),bins=25,layout=(3,4))"
      ],
      "execution_count": null,
      "outputs": [
        {
          "output_type": "display_data",
          "data": {
            "image/png": "[encoded data removed]",
            "text/plain": [
              "<Figure size 1440x1440 with 12 Axes>"
            ]
          },
          "metadata": {
            "tags": [],
            "needs_background": "light"
          }
        }
      ]
    },
    {
      "cell_type": "code",
      "metadata": {
        "id": "6T8KnSw45UcK",
        "colab": {
          "base_uri": "https://localhost:8080/",
          "height": 255
        },
        "outputId": "2c0c7f8b-ce9e-4466-d8e8-b98c11c8464e"
      },
      "source": [
        "# Percentage of Negative Values for Numerical Columns\n",
        "for col in df.columns:\n",
        "  if df[col].dtypes != 'object':\n",
        "    neg_perc = df[df[col] <0][col].count() / df[col].count()\n",
        "    print('percent of data entered with negative value for',col,':{:%}'.format(neg_perc))\n",
        "    print()\n"
      ],
      "execution_count": null,
      "outputs": [
        {
          "output_type": "stream",
          "text": [
            "percent of data entered with negative value for children :0.218351%\n",
            "\n",
            "percent of data entered with negative value for days_employed :82.197302%\n",
            "\n",
            "percent of data entered with negative value for dob_years :0.000000%\n",
            "\n",
            "percent of data entered with negative value for education_id :0.000000%\n",
            "\n",
            "percent of data entered with negative value for family_status_id :0.000000%\n",
            "\n",
            "percent of data entered with negative value for debt :0.000000%\n",
            "\n",
            "percent of data entered with negative value for total_income :0.000000%\n",
            "\n"
          ],
          "name": "stdout"
        }
      ]
    },
    {
      "cell_type": "code",
      "metadata": {
        "id": "NLKqEDR68bCZ",
        "colab": {
          "base_uri": "https://localhost:8080/",
          "height": 34
        },
        "outputId": "ba26026b-132a-4d8d-9c38-b8801172f3b4"
      },
      "source": [
        "\n",
        "print('Percentage of data entries with Age 0: {:%}'.format(df[df['dob_years'] == 0]['dob_years'].count() / df['dob_years'].count()))"
      ],
      "execution_count": null,
      "outputs": [
        {
          "output_type": "stream",
          "text": [
            "Percentage of data entries with Age 0: 0.469222%\n"
          ],
          "name": "stdout"
        }
      ]
    },
    {
      "cell_type": "code",
      "metadata": {
        "id": "OGcuhKIjmNfq",
        "colab": {
          "base_uri": "https://localhost:8080/",
          "height": 119
        },
        "outputId": "5e34b6f9-b222-43ee-ad98-068c0d70859c"
      },
      "source": [
        "# check to see if family_status and family_status_id match up\n",
        "\n",
        "print(df.pivot_table(index='family_status',\n",
        "               values='family_status_id').sort_values(by = 'family_status_id').reset_index())"
      ],
      "execution_count": null,
      "outputs": [
        {
          "output_type": "stream",
          "text": [
            "       family_status  family_status_id\n",
            "0            married                 0\n",
            "1  civil partnership                 1\n",
            "2    widow / widower                 2\n",
            "3           divorced                 3\n",
            "4          unmarried                 4\n"
          ],
          "name": "stdout"
        }
      ]
    },
    {
      "cell_type": "code",
      "metadata": {
        "id": "q6VgxFb_6HAZ",
        "colab": {
          "base_uri": "https://localhost:8080/",
          "height": 289
        },
        "outputId": "ace3282e-3a18-4cf4-d67b-66a24e19b7fe"
      },
      "source": [
        "# check to see if education and education_id match up\n",
        "\n",
        "print(df.pivot_table(index='education',\n",
        "               values='education_id').sort_values('education_id').reset_index())"
      ],
      "execution_count": null,
      "outputs": [
        {
          "output_type": "stream",
          "text": [
            "              education  education_id\n",
            "0     BACHELOR'S DEGREE             0\n",
            "1     Bachelor's Degree             0\n",
            "2     bachelor's degree             0\n",
            "3   SECONDARY EDUCATION             1\n",
            "4   Secondary Education             1\n",
            "5   secondary education             1\n",
            "6          SOME COLLEGE             2\n",
            "7          Some College             2\n",
            "8          some college             2\n",
            "9     PRIMARY EDUCATION             3\n",
            "10    Primary Education             3\n",
            "11    primary education             3\n",
            "12      GRADUATE DEGREE             4\n",
            "13      Graduate Degree             4\n",
            "14      graduate degree             4\n"
          ],
          "name": "stdout"
        }
      ]
    },
    {
      "cell_type": "markdown",
      "metadata": {
        "id": "FLWnHlDdtsGK"
      },
      "source": [
        "### Client:\n",
        " - a Senior Manager or Vice President of bank's loan division\n",
        " - data analysis and reports team that will create credit scoring system\n",
        "\n",
        "### Objective:\n",
        "To determine whether a customer's ability to repay a loan is affected by:\n",
        "   - marital status\n",
        "   - number of children\n",
        " \n",
        "### Purpose:\n",
        "This report will be considered when building credit scoring of potential customers\n",
        "\n",
        "###General Questions at first glance of data file:\n",
        "DATA QUESTIONS\n",
        " - Who is providing data to me?\n",
        " - Who do I ask if I have questions about data?\n",
        " - Who collected data?\n",
        " - When was data collected?\n",
        " - How was data collected and inputed into system?\n",
        "\n",
        "BUSINESS QUESTIONS\n",
        " - When were the loans given?\n",
        " - What length of period is each loan repayment for?\n",
        " - Is each row of data by primary loan applicant or does it include each loan applicant? Can there be multiple applicants for the same loan in this data file?\n",
        " - Did personal conditions/ situation change for loan applicants during the period of the loan?\n",
        " - Did economic factors/ environment change during the loan repayment period?\n",
        " - Where are loan applicants from? Do they all have same currency? geography? laws- for consumer rights and repayment terms?\n",
        "\n",
        "### Specific Observations about Data\n",
        "Pandas library is used to create tables, use csv file and perform calculations and visualizations.\n",
        "\n",
        "Upon running info() on dataframe and value_counts() on each column, the following observations are made:\n",
        " - 2 columns contain Null values: days_employed and total_income.  There seems to be a correlation that whichever row has NaN value for days_employed also has NaN value for total_income.\n",
        " - family id (integer) maps to family status (a string)\n",
        " - education id (integer) maps to education ( a string)\n",
        " - income_type (a string) does not have an associated integer id\n",
        " - purpose (a string) does not have an associated integer id\n",
        "\n",
        "#### children\n",
        " - has 47 records with value of -1. 0.218351% are with value -1. This is a very small amount, so calculations based on other, valid children values should be fine.  Difficult to determine why this value was entered and what correct value should be. It is quite possible it is possible to be a human error or a system error.\n",
        "\n",
        " - has 76 values for families with 20 children. 0.353078% of data is \"20\" children. This is a very small amount, so calculations based on other, valid children values should be fine. Difficult to determine why this value was entered and what correct value should be. It is quite possible to be either a human error or a system error.\n",
        " \n",
        "\n",
        "#### days_employed\n",
        "- is a float datatype, not integer\n",
        "- what do negative values for days employed mean - unemployed? - mistakenly marked negative?\n",
        " - 82.197302% of values are negative. This is very inaccurate and compromises the validity of analysis with values in this column.\n",
        " - Difficult to determine why data has errors; could be system error in the process of digitization, migration, manipulation.\n",
        "- very broad range; should categorize into ranges when values valid.\n",
        "\n",
        "#### dob_years\n",
        " - has values of 0 years old, but small percentage: 0.469222%\n",
        " - very broad range; should categorize into ranges\n",
        " - the label does not describe data accurately - 'age' would have been better choice. But since this data may be part of larger credit scoring system, I will keep column values as given. \n",
        "\n",
        "#### education\n",
        " - has duplicate entries due to capitalization differences. This may be human or system error when data was digitized.\n",
        " - seems to be correctly associated with education_id. This will be determined once duplicate entries have been eliminated.\n",
        "\n",
        "#### education_id\n",
        " - correctly associated with education\n",
        "\n",
        "\n",
        "#### family status\n",
        " - correctly associated with family_id\n",
        "\n",
        "#### family_id\n",
        " - correctly associated with family_status\n",
        "\n",
        "\n",
        "#### gender\n",
        " - string object with values M or F\n",
        " - 1 unknown value \"XNA\"; very inconsequential and will not affect validity of anaysis on gender values.\n",
        " - raises possibility that applicant may be transgender and that perhaps there should be a third value for this column.  Also raises business question on whether there should be a fourth value - not shared/private.\n",
        "\n",
        "#### income_type\n",
        " - seems straightforward\n",
        " - large majority of applicants fall into 4 out of 8 categories of income type.\n",
        "\n",
        "#### debt\n",
        " - seems straightforward\n",
        " - Values are 0 or 1; integer data type\n",
        "\n",
        "#### total_income\n",
        " - has many unique values\n",
        " - ranges should be created to analyze more effectively\n",
        "\n",
        "#### purpose\n",
        " - contains multiple duplicate values, phrased differently. This may be human error where no standard phrase was selected for purpose. Instead, perhaps a text box instead of drop down box was used for online application form. \n",
        " - values need to be converted and reduced to more accurately assess values"
      ]
    },
    {
      "cell_type": "markdown",
      "metadata": {
        "id": "UVmChmJ3tsGL"
      },
      "source": [
        "### Step 2. Data preprocessing"
      ]
    },
    {
      "cell_type": "markdown",
      "metadata": {
        "id": "LAqj0H5XtsGM"
      },
      "source": [
        "### Processing missing values"
      ]
    },
    {
      "cell_type": "code",
      "metadata": {
        "id": "oCCIn0VI10lF",
        "colab": {
          "base_uri": "https://localhost:8080/",
          "height": 238
        },
        "outputId": "9e4519d5-019f-4da9-e3ce-45a204434d28"
      },
      "source": [
        "# observe current null values\n",
        "df.isna().sum()\n",
        "\n"
      ],
      "execution_count": null,
      "outputs": [
        {
          "output_type": "execute_result",
          "data": {
            "text/plain": [
              "children               0\n",
              "days_employed       2174\n",
              "dob_years              0\n",
              "education              0\n",
              "education_id           0\n",
              "family_status          0\n",
              "family_status_id       0\n",
              "gender                 0\n",
              "income_type            0\n",
              "debt                   0\n",
              "total_income        2174\n",
              "purpose                0\n",
              "dtype: int64"
            ]
          },
          "metadata": {
            "tags": []
          },
          "execution_count": 13
        }
      ]
    },
    {
      "cell_type": "code",
      "metadata": {
        "id": "hWEKg_yxBTzs",
        "colab": {
          "base_uri": "https://localhost:8080/",
          "height": 136
        },
        "outputId": "44140942-7319-4ff3-af7b-25fbdf827be9"
      },
      "source": [
        "# converting invalid data into NaN since\n",
        "# - calculations are necessary on this column and\n",
        "# - can not use 0 as a substitute for NaN since 0 is a valid value itself \n",
        "\n",
        "df['children'] = df['children'].replace(-1,float(\"NaN\"))\n",
        "df['children'] = df['children'].replace(20,(float(\"NaN\")))\n",
        "df['children'].value_counts()"
      ],
      "execution_count": null,
      "outputs": [
        {
          "output_type": "execute_result",
          "data": {
            "text/plain": [
              "0.0    14149\n",
              "1.0     4818\n",
              "2.0     2055\n",
              "3.0      330\n",
              "4.0       41\n",
              "5.0        9\n",
              "Name: children, dtype: int64"
            ]
          },
          "metadata": {
            "tags": []
          },
          "execution_count": 14
        }
      ]
    },
    {
      "cell_type": "code",
      "metadata": {
        "id": "u_iDMYmCtsGM",
        "colab": {
          "base_uri": "https://localhost:8080/",
          "height": 34
        },
        "outputId": "be602987-580e-413c-83af-93e3c769fd0a"
      },
      "source": [
        "# observe change in null values\n",
        "df['children'].isna().sum()\n",
        "\n"
      ],
      "execution_count": null,
      "outputs": [
        {
          "output_type": "execute_result",
          "data": {
            "text/plain": [
              "123"
            ]
          },
          "metadata": {
            "tags": []
          },
          "execution_count": 15
        }
      ]
    },
    {
      "cell_type": "code",
      "metadata": {
        "id": "NpqAEK6fr9x2",
        "colab": {
          "base_uri": "https://localhost:8080/",
          "height": 187
        },
        "outputId": "4a7a6c94-7c94-4f6e-e3f4-fbb872482a6f"
      },
      "source": [
        "# check if space is entered as a value in string columns\n",
        "\n",
        "for index, item in df.dtypes.items():\n",
        "  if item == 'object':\n",
        "    print(df[index].str.isspace().value_counts())\n"
      ],
      "execution_count": null,
      "outputs": [
        {
          "output_type": "stream",
          "text": [
            "False    21525\n",
            "Name: education, dtype: int64\n",
            "False    21525\n",
            "Name: family_status, dtype: int64\n",
            "False    21525\n",
            "Name: gender, dtype: int64\n",
            "False    21525\n",
            "Name: income_type, dtype: int64\n",
            "False    21525\n",
            "Name: purpose, dtype: int64\n"
          ],
          "name": "stdout"
        }
      ]
    },
    {
      "cell_type": "markdown",
      "metadata": {
        "id": "ludgEQiXtsGS"
      },
      "source": [
        "### Conclusion"
      ]
    },
    {
      "cell_type": "markdown",
      "metadata": {
        "id": "Actkqdl6tsGS"
      },
      "source": [
        "## Identify and fill in missing values.\n",
        "### which missing values you identified\n",
        "### possible reasons these missing values were present\n",
        "  * **children** - missing values where -1, 20 entered. Total 123 / 21525 rows.\n",
        "    * If we eliminate those rows, values in other columns may be important and thus not reflect accurate results.  We can not use 0 since that value is important to determine who does not have children.\n",
        "    * possible reasons these missing values were present; possible human error based on data entry.\n",
        "    * even though the percentage of inaccurate data for this column is small the invalid data is converted into NaN so that data in the other columns of these specific rows can be used for analysis.\n",
        "\n",
        "* **days_employed** \n",
        " - 2154 rows of data have NaN value - are missing information. These appear to be the same rows that have NaN values for total_income\n",
        " - missing 82% of data since inaccurately entered as negative amount.\n",
        " - not obvious why values are negative.  Possible that processing error - human or system - converted numbers negative. But without clarification from person who provided data - how data was collected, what steps data went through before getting to me - it is difficult to determine.  \n",
        "  - since large majority of data is suspect, instead of deleting rows with it, the invalid values are converted to NaN so that the rest of the row values in other columns may be used for calculations. I will not be able to use values in this row itself for analysis since majority is missing.\n",
        "  \n",
        "\n",
        "* **total_income** - 2154 rows of data have NaN value - are missing information.\n",
        "  -  These appear to be the same rows that have NaN values for days_employed.\n",
        "  - Possible that processing error - human or system - converted numbers negative. But without clarification from person who provided data - how data was collected, what steps data went through before getting to me - it is difficult to determine.  \n",
        "  - Continued to use NaN value, did not change values to something else in order to run calculations. Can not change to zero since 0 itself is a valid value and do not want to make data inaccurate.\n",
        "\n",
        "### which method you used to fill in missing values\n",
        "\n",
        " - converted inaccurate data in 'children' column to NaN, which has a float datatype so calculation can be made on other numbers in column while NaN value is ignored."
      ]
    },
    {
      "cell_type": "markdown",
      "metadata": {
        "id": "TA4RPBOgtsGT"
      },
      "source": [
        "### Data type replacement"
      ]
    },
    {
      "cell_type": "code",
      "metadata": {
        "id": "xpBq4LQWAFl8",
        "colab": {
          "base_uri": "https://localhost:8080/",
          "height": 340
        },
        "outputId": "53376520-27fb-4547-a82b-3000bd5ec903"
      },
      "source": [
        "df.info()"
      ],
      "execution_count": null,
      "outputs": [
        {
          "output_type": "stream",
          "text": [
            "<class 'pandas.core.frame.DataFrame'>\n",
            "RangeIndex: 21525 entries, 0 to 21524\n",
            "Data columns (total 12 columns):\n",
            " #   Column            Non-Null Count  Dtype  \n",
            "---  ------            --------------  -----  \n",
            " 0   children          21402 non-null  float64\n",
            " 1   days_employed     19351 non-null  float64\n",
            " 2   dob_years         21525 non-null  int64  \n",
            " 3   education         21525 non-null  object \n",
            " 4   education_id      21525 non-null  int64  \n",
            " 5   family_status     21525 non-null  object \n",
            " 6   family_status_id  21525 non-null  int64  \n",
            " 7   gender            21525 non-null  object \n",
            " 8   income_type       21525 non-null  object \n",
            " 9   debt              21525 non-null  int64  \n",
            " 10  total_income      19351 non-null  float64\n",
            " 11  purpose           21525 non-null  object \n",
            "dtypes: float64(3), int64(4), object(5)\n",
            "memory usage: 2.0+ MB\n"
          ],
          "name": "stdout"
        }
      ]
    },
    {
      "cell_type": "markdown",
      "metadata": {
        "id": "5sGmD3DHtsGW"
      },
      "source": [
        "### Conclusion"
      ]
    },
    {
      "cell_type": "markdown",
      "metadata": {
        "id": "dwdJ_PjvtsGW"
      },
      "source": [
        "* which method you used to change the data type and why;\n",
        "* Replace the real number data type with the integer type\n",
        "  * I did not change any datatypes for children, days_employed and total_income since they contain NaN values that are float type and I believe necessary to have as data.\n",
        "  * It would not be accurate to substitute 0 for missing values since 0 itself\n",
        "  is a valid value and would consequently misrepresent the results."
      ]
    },
    {
      "cell_type": "markdown",
      "metadata": {
        "id": "UNLaZsKEtsGX"
      },
      "source": [
        "### Processing duplicates"
      ]
    },
    {
      "cell_type": "code",
      "metadata": {
        "id": "KdNNUpVgJabm",
        "colab": {
          "base_uri": "https://localhost:8080/",
          "height": 34
        },
        "outputId": "106ed351-3b40-4d61-89b4-0c1a584d0ef5"
      },
      "source": [
        "# look for duplicate rows in dataframe\n",
        "df.duplicated().sum()"
      ],
      "execution_count": null,
      "outputs": [
        {
          "output_type": "execute_result",
          "data": {
            "text/plain": [
              "54"
            ]
          },
          "metadata": {
            "tags": []
          },
          "execution_count": 18
        }
      ]
    },
    {
      "cell_type": "code",
      "metadata": {
        "id": "xI5quE_ztsGX",
        "colab": {
          "base_uri": "https://localhost:8080/",
          "height": 255
        },
        "outputId": "84b9455f-ff0b-4d29-c128-d55237b63dba"
      },
      "source": [
        "# delete duplicate rows in dataframe and resetting index\n",
        "df = df.drop_duplicates().reset_index(drop=True)\n",
        "print(df)\n"
      ],
      "execution_count": null,
      "outputs": [
        {
          "output_type": "stream",
          "text": [
            "       children  days_employed  ...  total_income                  purpose\n",
            "0           1.0   -8437.673028  ...     40620.102    purchase of the house\n",
            "1           1.0   -4024.803754  ...     17932.802             car purchase\n",
            "2           0.0   -5623.422610  ...     23341.752    purchase of the house\n",
            "3           3.0   -4124.747207  ...     42820.568  supplementary education\n",
            "4           0.0  340266.072047  ...     25378.572        to have a wedding\n",
            "...         ...            ...  ...           ...                      ...\n",
            "21466       1.0   -4529.316663  ...     35966.698     housing transactions\n",
            "21467       0.0  343937.404131  ...     24959.969        purchase of a car\n",
            "21468       1.0   -2113.346888  ...     14347.610                 property\n",
            "21469       3.0   -3112.481705  ...     39054.888        buying my own car\n",
            "21470       2.0   -1984.507589  ...     13127.587             to buy a car\n",
            "\n",
            "[21471 rows x 12 columns]\n"
          ],
          "name": "stdout"
        }
      ]
    },
    {
      "cell_type": "code",
      "metadata": {
        "id": "MlLkfiaUJYXn",
        "colab": {
          "base_uri": "https://localhost:8080/",
          "height": 34
        },
        "outputId": "84d34111-049a-4462-d92c-b3245b5e241a"
      },
      "source": [
        "# check if duplicate row values have been deleted\n",
        "df.duplicated().sum()"
      ],
      "execution_count": null,
      "outputs": [
        {
          "output_type": "execute_result",
          "data": {
            "text/plain": [
              "0"
            ]
          },
          "metadata": {
            "tags": []
          },
          "execution_count": 20
        }
      ]
    },
    {
      "cell_type": "code",
      "metadata": {
        "id": "pc49UNN4GYF6"
      },
      "source": [
        "# make values in education lower case.\n",
        "df['education'] = df['education'].str.lower()"
      ],
      "execution_count": null,
      "outputs": []
    },
    {
      "cell_type": "code",
      "metadata": {
        "id": "9AWlCR9Nm4is",
        "colab": {
          "base_uri": "https://localhost:8080/",
          "height": 119
        },
        "outputId": "637fa085-d6d7-47b8-80fe-0c5555004926"
      },
      "source": [
        "# print unique values and their counts to determine duplicate values\n",
        "df['education'].value_counts()"
      ],
      "execution_count": null,
      "outputs": [
        {
          "output_type": "execute_result",
          "data": {
            "text/plain": [
              "secondary education    15188\n",
              "bachelor's degree       5251\n",
              "some college             744\n",
              "primary education        282\n",
              "graduate degree            6\n",
              "Name: education, dtype: int64"
            ]
          },
          "metadata": {
            "tags": []
          },
          "execution_count": 22
        }
      ]
    },
    {
      "cell_type": "code",
      "metadata": {
        "id": "3qOzODCTnxSH",
        "colab": {
          "base_uri": "https://localhost:8080/",
          "height": 119
        },
        "outputId": "b2d36f83-4c2e-442f-ba04-9c96a023834a"
      },
      "source": [
        "# see if education column maps with education_id\n",
        "print(df.pivot_table(index='education',\n",
        "               values='education_id').sort_values(by = 'education_id').reset_index())"
      ],
      "execution_count": null,
      "outputs": [
        {
          "output_type": "stream",
          "text": [
            "             education  education_id\n",
            "0    bachelor's degree             0\n",
            "1  secondary education             1\n",
            "2         some college             2\n",
            "3    primary education             3\n",
            "4      graduate degree             4\n"
          ],
          "name": "stdout"
        }
      ]
    },
    {
      "cell_type": "code",
      "metadata": {
        "id": "qbG8DngZpGsv",
        "colab": {
          "base_uri": "https://localhost:8080/",
          "height": 680
        },
        "outputId": "645586c2-62f7-4362-f514-5caae2ac125c"
      },
      "source": [
        "# look at unique values and their counts to determine duplicate values\n",
        "df['purpose'].value_counts()"
      ],
      "execution_count": null,
      "outputs": [
        {
          "output_type": "execute_result",
          "data": {
            "text/plain": [
              "wedding ceremony                            793\n",
              "having a wedding                            773\n",
              "to have a wedding                           769\n",
              "real estate transactions                    675\n",
              "buy commercial real estate                  662\n",
              "housing transactions                        652\n",
              "buying property for renting out             652\n",
              "transactions with commercial real estate    650\n",
              "purchase of the house                       646\n",
              "housing                                     646\n",
              "purchase of the house for my family         638\n",
              "construction of own property                635\n",
              "property                                    633\n",
              "transactions with my real estate            627\n",
              "building a real estate                      625\n",
              "buy real estate                             621\n",
              "purchase of my own house                    620\n",
              "building a property                         619\n",
              "housing renovation                          607\n",
              "buy residential real estate                 606\n",
              "buying my own car                           505\n",
              "going to university                         496\n",
              "car                                         494\n",
              "second-hand car purchase                    486\n",
              "to own a car                                479\n",
              "cars                                        478\n",
              "buying a second-hand car                    478\n",
              "to buy a car                                472\n",
              "car purchase                                461\n",
              "supplementary education                     460\n",
              "purchase of a car                           455\n",
              "university education                        452\n",
              "to get a supplementary education            447\n",
              "education                                   447\n",
              "getting an education                        442\n",
              "profile education                           436\n",
              "getting higher education                    426\n",
              "to become educated                          408\n",
              "Name: purpose, dtype: int64"
            ]
          },
          "metadata": {
            "tags": []
          },
          "execution_count": 24
        }
      ]
    },
    {
      "cell_type": "markdown",
      "metadata": {
        "id": "3wmPT1YYtsGa"
      },
      "source": [
        "### Conclusion"
      ]
    },
    {
      "cell_type": "markdown",
      "metadata": {
        "id": "LkTFRwuHtsGa"
      },
      "source": [
        "* which method you used to find and delete duplicate data and why;\n",
        "  * Used duplicated() to find identical rows with duplicated values in dataframe and applied .sum() to count how many. Performed this step before and after deleting duplicates.\n",
        "  * looking for duplicates in columns by using value_counts() to determine unique values in object (string) type columns and their count.  This was helpful to find duplicates in education and purpose columns. \n",
        "  * converted education values to lower case, which effectively eliminated duplicate versions of the same value without deleting rows\n",
        "  * purpose column duplicates are actually valid values that can not be deleted but should be classified in discrete categories. This column is fixed in category section.\n",
        "\n",
        "* possible reasons why duplicate data was present;\n",
        "  * education: may be human or system error when data was digitized, aggregated.\n",
        " purpose: This may be human error where no standard phrase was selected for purpose. Instead, perhaps a text box instead of drop down box was used for online application form. \n"
      ]
    },
    {
      "cell_type": "markdown",
      "metadata": {
        "id": "368LhssUtsGb"
      },
      "source": [
        "### Categorizing Data"
      ]
    },
    {
      "cell_type": "code",
      "metadata": {
        "id": "VP1cAhHr9y6R",
        "colab": {
          "base_uri": "https://localhost:8080/",
          "height": 51
        },
        "outputId": "beed6e2e-9d5c-4aaf-d0af-4d8af2284b74"
      },
      "source": [
        "# create a function, generate_category_id, to tokenize phrase in purpose column\n",
        "# in order to consolidate multiple phrases with same values.\n",
        "\n",
        "# need to import nltk library to use word_tokenize function.\n",
        "\n",
        "# Each word is tokenized and processed in a category_id function where only key\n",
        "# words are assigned a category and category_id. \n",
        "\n",
        "import nltk\n",
        "nltk.download('punkt')\n",
        "\n",
        "purpose = df['purpose']\n",
        "purpose_list = []\n",
        "\n",
        "def generate_category_id(word):\n",
        "   purpose_category = None\n",
        "   purpose_category_id = 0\n",
        "   if w in ['educated', 'education', 'university']:\n",
        "     purpose_category = 'education'\n",
        "     purpose_category_id = 1\n",
        "   elif w in ['property', 'housing', 'house', 'estate']:\n",
        "     purpose_category = 'property'\n",
        "     purpose_category_id = 2\n",
        "   elif w in ['car','cars']:\n",
        "     purpose_category = 'car'\n",
        "     purpose_category_id = 3\n",
        "   elif w == 'wedding':\n",
        "     purpose_category = 'wedding'\n",
        "     purpose_category_id = 4\n",
        "\n",
        "   return(purpose_category, purpose_category_id)"
      ],
      "execution_count": null,
      "outputs": [
        {
          "output_type": "stream",
          "text": [
            "[nltk_data] Downloading package punkt to /root/nltk_data...\n",
            "[nltk_data]   Package punkt is already up-to-date!\n"
          ],
          "name": "stdout"
        }
      ]
    },
    {
      "cell_type": "code",
      "metadata": {
        "id": "QgCE4p7w-bAk"
      },
      "source": [
        "# A loop creates a list of rows to be added to a purpose dictionary that may be\n",
        "# used for future analysis. When information is added to the list based on a\n",
        "# valid keyword, the variable 'added' is set to True in order to prevent\n",
        "# duplicate entries into the list if a phrase contains multiple key words. \n",
        "\n",
        "for index, reason in purpose.items():\n",
        "  words = nltk.word_tokenize(reason)\n",
        "  added = False\n",
        "  for w in words:\n",
        "    category = generate_category_id(w)\n",
        "    if (category[1] != 0) & (added == False):\n",
        "      purpose_row = [index, reason, w, category[0], category[1]]\n",
        "      purpose_list.append(purpose_row)\n",
        "      added = True\n",
        "\n",
        "# Purpose_dict contains columns with all data relating to purpose for future\n",
        "# analysis including:  df['purpose'] index,\n",
        "# original 'purpose' value, keyword that was extracted from function, assigned\n",
        "# category by function and category id, if necessary in future. \n",
        "   \n",
        "purpose_dict = pd.DataFrame(data = purpose_list,\n",
        "                            columns = ['purpose_index','purpose', 'word',\n",
        "                                       'purpose_category','purpose_category_id'])"
      ],
      "execution_count": null,
      "outputs": []
    },
    {
      "cell_type": "code",
      "metadata": {
        "id": "Lls32Ztc-LIn",
        "colab": {
          "base_uri": "https://localhost:8080/",
          "height": 374
        },
        "outputId": "aaaa40d4-0bba-4514-f1d8-4078805453e6"
      },
      "source": [
        "# purpose_category column is added to df for better analysis and ability to\n",
        "# slice data by purpose_category.\n",
        "\n",
        "df['purpose_category'] = purpose_dict['purpose_category']\n",
        "print(df.info())"
      ],
      "execution_count": null,
      "outputs": [
        {
          "output_type": "stream",
          "text": [
            "<class 'pandas.core.frame.DataFrame'>\n",
            "RangeIndex: 21471 entries, 0 to 21470\n",
            "Data columns (total 13 columns):\n",
            " #   Column            Non-Null Count  Dtype  \n",
            "---  ------            --------------  -----  \n",
            " 0   children          21348 non-null  float64\n",
            " 1   days_employed     19351 non-null  float64\n",
            " 2   dob_years         21471 non-null  int64  \n",
            " 3   education         21471 non-null  object \n",
            " 4   education_id      21471 non-null  int64  \n",
            " 5   family_status     21471 non-null  object \n",
            " 6   family_status_id  21471 non-null  int64  \n",
            " 7   gender            21471 non-null  object \n",
            " 8   income_type       21471 non-null  object \n",
            " 9   debt              21471 non-null  int64  \n",
            " 10  total_income      19351 non-null  float64\n",
            " 11  purpose           21471 non-null  object \n",
            " 12  purpose_category  21471 non-null  object \n",
            "dtypes: float64(3), int64(4), object(6)\n",
            "memory usage: 2.1+ MB\n",
            "None\n"
          ],
          "name": "stdout"
        }
      ]
    },
    {
      "cell_type": "code",
      "metadata": {
        "id": "51347bTVMdBe",
        "colab": {
          "base_uri": "https://localhost:8080/",
          "height": 85
        },
        "outputId": "85da74b7-73b0-4a3b-ec91-a7b5090dc5dc"
      },
      "source": [
        "# getting sense of values for age to determine age categories\n",
        "print('lowest age: ', df['dob_years'].min())\n",
        "print('highest age: ', df['dob_years'].max())\n",
        "print('mean for age: ',df['dob_years'].mean())\n",
        "print('median for age: ', df['dob_years'].median())\n"
      ],
      "execution_count": null,
      "outputs": [
        {
          "output_type": "stream",
          "text": [
            "lowest age:  0\n",
            "highest age:  75\n",
            "mean for age:  43.279074099948765\n",
            "median for age:  42.0\n"
          ],
          "name": "stdout"
        }
      ]
    },
    {
      "cell_type": "code",
      "metadata": {
        "id": "POMjpTdXtsGc",
        "colab": {
          "base_uri": "https://localhost:8080/",
          "height": 238
        },
        "outputId": "79901b8c-0466-46ac-e4d5-cf5339f82cf2"
      },
      "source": [
        " # dob_years categorized according to general stages in human development\n",
        " # using function to determine age group and creating age_group column in df\n",
        "\n",
        "def age_group(age):\n",
        "  if age < 18:\n",
        "    return 'youth'\n",
        "  if 18 <= age < 23:\n",
        "    return 'young_adult'\n",
        "  if 23 <= age < 35:\n",
        "    return 'adult'\n",
        "  if 35 <= age <50:\n",
        "    return 'middle_aged'\n",
        "  if 50 <= age < 70:\n",
        "    return 'senior'\n",
        "  if age >= 70:\n",
        "    return 'retired'\n",
        "\n",
        "df['age_group'] = df['dob_years'].apply(age_group)\n",
        "print(df.head(10))\n"
      ],
      "execution_count": null,
      "outputs": [
        {
          "output_type": "stream",
          "text": [
            "   children  days_employed  ...  purpose_category    age_group\n",
            "0       1.0   -8437.673028  ...          property  middle_aged\n",
            "1       1.0   -4024.803754  ...               car  middle_aged\n",
            "2       0.0   -5623.422610  ...          property        adult\n",
            "3       3.0   -4124.747207  ...         education        adult\n",
            "4       0.0  340266.072047  ...           wedding       senior\n",
            "5       0.0    -926.185831  ...          property        adult\n",
            "6       0.0   -2879.202052  ...          property  middle_aged\n",
            "7       0.0    -152.779569  ...         education       senior\n",
            "8       2.0   -6929.865299  ...           wedding  middle_aged\n",
            "9       0.0   -2188.756445  ...          property  middle_aged\n",
            "\n",
            "[10 rows x 14 columns]\n"
          ],
          "name": "stdout"
        }
      ]
    },
    {
      "cell_type": "code",
      "metadata": {
        "id": "1DRhqLZIWsJh",
        "colab": {
          "base_uri": "https://localhost:8080/",
          "height": 34
        },
        "outputId": "103a422d-10f3-42f7-cc86-78b099d34699"
      },
      "source": [
        "# checking whether all rows were populated with age_group value\n",
        "df['age_group'].isna().sum()"
      ],
      "execution_count": null,
      "outputs": [
        {
          "output_type": "execute_result",
          "data": {
            "text/plain": [
              "0"
            ]
          },
          "metadata": {
            "tags": []
          },
          "execution_count": 30
        }
      ]
    },
    {
      "cell_type": "code",
      "metadata": {
        "id": "T8KcV4SQVdJ3",
        "colab": {
          "base_uri": "https://localhost:8080/",
          "height": 85
        },
        "outputId": "f12aec60-b85d-4e61-a467-7a73911626a3"
      },
      "source": [
        "# getting sense of values for total_income to determine income range\n",
        "print('lowest income: ', df['total_income'].min())\n",
        "print('highest income: ', df['total_income'].max())\n",
        "print('mean for income: ',df['total_income'].mean())\n",
        "print('median for income: ', df['total_income'].median())"
      ],
      "execution_count": null,
      "outputs": [
        {
          "output_type": "stream",
          "text": [
            "lowest income:  3306.762\n",
            "highest income:  362496.645\n",
            "mean for income:  26787.56835465871\n",
            "median for income:  23202.87\n"
          ],
          "name": "stdout"
        }
      ]
    },
    {
      "cell_type": "code",
      "metadata": {
        "id": "cGreJW3iZO1g",
        "colab": {
          "base_uri": "https://localhost:8080/",
          "height": 238
        },
        "outputId": "ff9ed797-6077-4fbb-bb34-333ebe6aac45"
      },
      "source": [
        "# total_income categorized according to range\n",
        " # using function to determine range and adding it as income_status column in df\n",
        "\n",
        "def income_range(income):\n",
        "  if 0 < income < 20000:\n",
        "    return 'low'\n",
        "  if 20000 <= income < 50000:\n",
        "    return 'middle'\n",
        "  if 50000 <= income < 100000:\n",
        "    return 'upper'\n",
        "  if 100000 <= income:\n",
        "    return 'high'\n",
        " \n",
        "\n",
        "df['income_status'] = df['total_income'].apply(income_range)\n",
        "print(df.head(10))"
      ],
      "execution_count": null,
      "outputs": [
        {
          "output_type": "stream",
          "text": [
            "   children  days_employed  ...    age_group income_status\n",
            "0       1.0   -8437.673028  ...  middle_aged        middle\n",
            "1       1.0   -4024.803754  ...  middle_aged           low\n",
            "2       0.0   -5623.422610  ...        adult        middle\n",
            "3       3.0   -4124.747207  ...        adult        middle\n",
            "4       0.0  340266.072047  ...       senior        middle\n",
            "5       0.0    -926.185831  ...        adult        middle\n",
            "6       0.0   -2879.202052  ...  middle_aged        middle\n",
            "7       0.0    -152.779569  ...       senior        middle\n",
            "8       2.0   -6929.865299  ...  middle_aged           low\n",
            "9       0.0   -2188.756445  ...  middle_aged        middle\n",
            "\n",
            "[10 rows x 15 columns]\n"
          ],
          "name": "stdout"
        }
      ]
    },
    {
      "cell_type": "code",
      "metadata": {
        "id": "g0fVF5ngbimf",
        "colab": {
          "base_uri": "https://localhost:8080/",
          "height": 34
        },
        "outputId": "db71313a-c4b7-4de2-a1ba-f3f9f433da27"
      },
      "source": [
        "# check for null rows in income_status\n",
        "df['income_status'].isna().sum()"
      ],
      "execution_count": null,
      "outputs": [
        {
          "output_type": "execute_result",
          "data": {
            "text/plain": [
              "2120"
            ]
          },
          "metadata": {
            "tags": []
          },
          "execution_count": 33
        }
      ]
    },
    {
      "cell_type": "code",
      "metadata": {
        "id": "lhMuIU0odpr5",
        "colab": {
          "base_uri": "https://localhost:8080/",
          "height": 391
        },
        "outputId": "0858f571-e883-4493-c75a-a084ec5b533d"
      },
      "source": [
        "# compare number of non-null rows of income_status to total_income to ensure same\n",
        "# rows populated\n",
        "df.info()"
      ],
      "execution_count": null,
      "outputs": [
        {
          "output_type": "stream",
          "text": [
            "<class 'pandas.core.frame.DataFrame'>\n",
            "RangeIndex: 21471 entries, 0 to 21470\n",
            "Data columns (total 15 columns):\n",
            " #   Column            Non-Null Count  Dtype  \n",
            "---  ------            --------------  -----  \n",
            " 0   children          21348 non-null  float64\n",
            " 1   days_employed     19351 non-null  float64\n",
            " 2   dob_years         21471 non-null  int64  \n",
            " 3   education         21471 non-null  object \n",
            " 4   education_id      21471 non-null  int64  \n",
            " 5   family_status     21471 non-null  object \n",
            " 6   family_status_id  21471 non-null  int64  \n",
            " 7   gender            21471 non-null  object \n",
            " 8   income_type       21471 non-null  object \n",
            " 9   debt              21471 non-null  int64  \n",
            " 10  total_income      19351 non-null  float64\n",
            " 11  purpose           21471 non-null  object \n",
            " 12  purpose_category  21471 non-null  object \n",
            " 13  age_group         21471 non-null  object \n",
            " 14  income_status     19351 non-null  object \n",
            "dtypes: float64(3), int64(4), object(8)\n",
            "memory usage: 2.5+ MB\n"
          ],
          "name": "stdout"
        }
      ]
    },
    {
      "cell_type": "markdown",
      "metadata": {
        "id": "RKk_f21ktsGf"
      },
      "source": [
        "### Conclusion"
      ]
    },
    {
      "cell_type": "markdown",
      "metadata": {
        "id": "KkPe-UlStsGf"
      },
      "source": [
        " \n",
        "* Categorizing data helps extract data that meets specific requirements and enables easier analysis and visualization.\n",
        "\n",
        "* **Purpose** column has duplicate values for same purpose reason.  It also has multiple values that can be assigned same category to limit dataset to required information and to analyze data better.\n",
        "  * Since looking for duplicates by hand is a manual process and since words need to be compared with manually determined cases, each word is tokenized instead of lemmatized or stemmed since there are multiple exceptions and steps required using those methods.\n",
        "  * Lemmatizing was not effective since the purpose values are phrases, not sentences where parts of speech, such as nouns, can be effectively chosen.\n",
        "  * Stemming requires manual intervention to select stems.\n",
        "\n",
        "* **age** column has wide range of values. It is easier to understand and visualize data with age categories.\n",
        "\n",
        "'youth' - age < 18\n",
        "\n",
        "'young_adult' - 18 <= age < 23\n",
        "\n",
        "'adult' - 23 <= age < 35\n",
        "\n",
        "'middle_aged' - 35 <= age <50\n",
        "\n",
        "'senior' - 50 <= age < 70\n",
        "\n",
        "'retired' - age >= 70\n",
        "\n",
        "\n",
        "* **total_income** column has wide range of values. It is helpful to analyze and get specific data based on categories of income.\n",
        " income_status:\n",
        "\n",
        " 'low' = 0 < income < 20000\n",
        "\n",
        " 'middle'=  20000 <= income < 50000\n",
        "\n",
        " 'upper' =  50000 <= income < 100000\n",
        "\n",
        " 'high' =   income >= 100000\n",
        "   \n",
        "* **days_employed** should be categorized after determining with data owner why 82% of values are negative numbers and are fixed."
      ]
    },
    {
      "cell_type": "markdown",
      "metadata": {
        "id": "b_AHz1UDtsGf"
      },
      "source": [
        "### Step 3. Answer these questions"
      ]
    },
    {
      "cell_type": "markdown",
      "metadata": {
        "id": "d1fd8of0tsGg"
      },
      "source": [
        "- Is there a relation between having kids and repaying a loan on time?"
      ]
    },
    {
      "cell_type": "code",
      "metadata": {
        "id": "wcgvRhlmsMak"
      },
      "source": [
        ""
      ],
      "execution_count": null,
      "outputs": []
    },
    {
      "cell_type": "code",
      "metadata": {
        "id": "xB9MmfZNjKYX",
        "colab": {
          "base_uri": "https://localhost:8080/",
          "height": 318
        },
        "outputId": "b9d6f3bc-c6aa-49fc-fa7a-01b285eefe89"
      },
      "source": [
        "# Visualize the debt status of loan applicants according to how many children they have\n",
        "\n",
        "df.groupby(['children','debt']).size().unstack().plot(kind='bar',\n",
        "                                                      stacked=True,\n",
        "                                                      title=\"Debt Status According to Number of Children\")"
      ],
      "execution_count": null,
      "outputs": [
        {
          "output_type": "execute_result",
          "data": {
            "text/plain": [
              "<matplotlib.axes._subplots.AxesSubplot at 0x7fc267848d68>"
            ]
          },
          "metadata": {
            "tags": []
          },
          "execution_count": 35
        },
        {
          "output_type": "display_data",
          "data": {
            "image/png": "[encoded data removed]",
            "text/plain": [
              "<Figure size 432x288 with 1 Axes>"
            ]
          },
          "metadata": {
            "tags": [],
            "needs_background": "light"
          }
        }
      ]
    },
    {
      "cell_type": "code",
      "metadata": {
        "id": "rnK3HIXuy7LX",
        "colab": {
          "base_uri": "https://localhost:8080/",
          "height": 266
        },
        "outputId": "23ff4530-e5af-4488-eb87-5a3d5a0dc4c9"
      },
      "source": [
        "# debt by number of children\n",
        "\n",
        "# - count: actual number of loans taken by category\n",
        "# - sum: actual number of loans not repaid by category\n",
        "# - mean, %_debt_in_group: average amount and percentage of loans not repaid within category\n",
        "# - %_distr_debtors: taking only applicants in debt, the percentage\n",
        "#   distribution of loans not repaid by groups based on number of children \n",
        "# - %_debt_among_total_appl: percentage of loans not repaid amongst all loan applicants\n",
        "\n",
        "t = df.pivot_table(index='children',\n",
        "                   values='debt',\n",
        "                   aggfunc=['count','sum','mean']).reset_index()\n",
        "\n",
        "t['%_debt_in_group'] = t['mean'] * 100\n",
        "t['%_distr_debtors'] = t['sum'] / t['sum'].sum() * 100\n",
        "t['%_debt_among_total_appl'] = (t['sum'] / t['count'].sum() * 100)\n",
        "t.sort_values('%_distr_debtors', ascending = False)"
      ],
      "execution_count": null,
      "outputs": [
        {
          "output_type": "execute_result",
          "data": {
            "text/html": [
              "<div>\n",
              "<style scoped>\n",
              "    .dataframe tbody tr th:only-of-type {\n",
              "        vertical-align: middle;\n",
              "    }\n",
              "\n",
              "    .dataframe tbody tr th {\n",
              "        vertical-align: top;\n",
              "    }\n",
              "\n",
              "    .dataframe thead tr th {\n",
              "        text-align: left;\n",
              "    }\n",
              "</style>\n",
              "<table border=\"1\" class=\"dataframe\">\n",
              "  <thead>\n",
              "    <tr>\n",
              "      <th></th>\n",
              "      <th>children</th>\n",
              "      <th>count</th>\n",
              "      <th>sum</th>\n",
              "      <th>mean</th>\n",
              "      <th>%_debt_in_group</th>\n",
              "      <th>%_distr_debtors</th>\n",
              "      <th>%_debt_among_total_appl</th>\n",
              "    </tr>\n",
              "    <tr>\n",
              "      <th></th>\n",
              "      <th></th>\n",
              "      <th>debt</th>\n",
              "      <th>debt</th>\n",
              "      <th>debt</th>\n",
              "      <th></th>\n",
              "      <th></th>\n",
              "      <th></th>\n",
              "    </tr>\n",
              "  </thead>\n",
              "  <tbody>\n",
              "    <tr>\n",
              "      <th>0</th>\n",
              "      <td>0.0</td>\n",
              "      <td>14107</td>\n",
              "      <td>1063</td>\n",
              "      <td>0.075353</td>\n",
              "      <td>7.535266</td>\n",
              "      <td>61.374134</td>\n",
              "      <td>4.979389</td>\n",
              "    </tr>\n",
              "    <tr>\n",
              "      <th>1</th>\n",
              "      <td>1.0</td>\n",
              "      <td>4809</td>\n",
              "      <td>444</td>\n",
              "      <td>0.092327</td>\n",
              "      <td>9.232689</td>\n",
              "      <td>25.635104</td>\n",
              "      <td>2.079820</td>\n",
              "    </tr>\n",
              "    <tr>\n",
              "      <th>2</th>\n",
              "      <td>2.0</td>\n",
              "      <td>2052</td>\n",
              "      <td>194</td>\n",
              "      <td>0.094542</td>\n",
              "      <td>9.454191</td>\n",
              "      <td>11.200924</td>\n",
              "      <td>0.908750</td>\n",
              "    </tr>\n",
              "    <tr>\n",
              "      <th>3</th>\n",
              "      <td>3.0</td>\n",
              "      <td>330</td>\n",
              "      <td>27</td>\n",
              "      <td>0.081818</td>\n",
              "      <td>8.181818</td>\n",
              "      <td>1.558891</td>\n",
              "      <td>0.126476</td>\n",
              "    </tr>\n",
              "    <tr>\n",
              "      <th>4</th>\n",
              "      <td>4.0</td>\n",
              "      <td>41</td>\n",
              "      <td>4</td>\n",
              "      <td>0.097561</td>\n",
              "      <td>9.756098</td>\n",
              "      <td>0.230947</td>\n",
              "      <td>0.018737</td>\n",
              "    </tr>\n",
              "    <tr>\n",
              "      <th>5</th>\n",
              "      <td>5.0</td>\n",
              "      <td>9</td>\n",
              "      <td>0</td>\n",
              "      <td>0.000000</td>\n",
              "      <td>0.000000</td>\n",
              "      <td>0.000000</td>\n",
              "      <td>0.000000</td>\n",
              "    </tr>\n",
              "  </tbody>\n",
              "</table>\n",
              "</div>"
            ],
            "text/plain": [
              "  children  count   sum  ... %_debt_in_group %_distr_debtors %_debt_among_total_appl\n",
              "             debt  debt  ...                                                        \n",
              "0      0.0  14107  1063  ...        7.535266       61.374134                4.979389\n",
              "1      1.0   4809   444  ...        9.232689       25.635104                2.079820\n",
              "2      2.0   2052   194  ...        9.454191       11.200924                0.908750\n",
              "3      3.0    330    27  ...        8.181818        1.558891                0.126476\n",
              "4      4.0     41     4  ...        9.756098        0.230947                0.018737\n",
              "5      5.0      9     0  ...        0.000000        0.000000                0.000000\n",
              "\n",
              "[6 rows x 7 columns]"
            ]
          },
          "metadata": {
            "tags": []
          },
          "execution_count": 36
        }
      ]
    },
    {
      "cell_type": "markdown",
      "metadata": {
        "id": "vDaywxH1tsGj"
      },
      "source": [
        "### Conclusion\n",
        " * There is a pattern among the total number of applicants that there is higher debt with less number of children.  There is less debt with higher number of children. \n",
        "\n",
        " * Applicants in the group with the highest number of children have better rate of repayment in all perspectives - within themselves, amongst other family status groups and compared to all applicants. However, there are much fewer applicants in this category overall.\n",
        "\n",
        "* Eye catching is that those applicants with 5 children have no debt at all.\n",
        "\n",
        "* Upon reflection on the rate of repayment amongst the categories themselves, applicants with 0 children have the second best rate of repayment. Interestingly, they do have the highest percentage of debt amongst the children categories but they also have the highest number of loans taken. "
      ]
    },
    {
      "cell_type": "markdown",
      "metadata": {
        "id": "de2NTbr-tsGk"
      },
      "source": [
        "- Is there a relation between marital status and repaying a loan on time?"
      ]
    },
    {
      "cell_type": "code",
      "metadata": {
        "id": "UcczbajC86fw",
        "colab": {
          "base_uri": "https://localhost:8080/",
          "height": 34
        },
        "outputId": "477aee99-ec71-480d-8275-0dee13d5a7a3"
      },
      "source": [
        "\n",
        "df2 = df.groupby(['family_status','debt'])\n"
      ],
      "execution_count": null,
      "outputs": [
        {
          "output_type": "stream",
          "text": [
            "<pandas.core.groupby.generic.SeriesGroupBy object at 0x7fc265e4f518>\n"
          ],
          "name": "stdout"
        }
      ]
    },
    {
      "cell_type": "code",
      "metadata": {
        "id": "djJP2q80tsGk",
        "colab": {
          "base_uri": "https://localhost:8080/",
          "height": 386
        },
        "outputId": "d6b2f2f6-fb72-4ee1-d2ee-138dd60366dd"
      },
      "source": [
        "# Visualize the debt status of loan applicants according to family status\n",
        "df.groupby(['family_status','debt']).size().unstack().plot(kind='bar',\n",
        "                                                           stacked=True,\n",
        "                                                           title=\"Debt Status according to Family Status\")\n",
        "\n"
      ],
      "execution_count": null,
      "outputs": [
        {
          "output_type": "execute_result",
          "data": {
            "text/plain": [
              "<matplotlib.axes._subplots.AxesSubplot at 0x7fc2664ed588>"
            ]
          },
          "metadata": {
            "tags": []
          },
          "execution_count": 38
        },
        {
          "output_type": "display_data",
          "data": {
            "image/png": "[encoded data removed]",
            "text/plain": [
              "<Figure size 432x288 with 1 Axes>"
            ]
          },
          "metadata": {
            "tags": [],
            "needs_background": "light"
          }
        }
      ]
    },
    {
      "cell_type": "code",
      "metadata": {
        "id": "jJa9OSXEzM3p",
        "colab": {
          "base_uri": "https://localhost:8080/",
          "height": 235
        },
        "outputId": "f0d3a6d7-a74d-46c0-91f0-2f97cca2baeb"
      },
      "source": [
        "# debt by family status\n",
        "\n",
        "# - count: actual number of loans taken by category\n",
        "# - sum: actual number of loans not repaid by category\n",
        "# - mean, %_debt_in_group: average amount and percentage of loans not repaid within category\n",
        "# - %_distr_debtors: taking only applicants in debt, the percentage\n",
        "#   distribution of loans not repaid by groups of family status \n",
        "# - %_debt_among_total_appl: percentage of loans not repaid amongst all loan applicants\n",
        "\n",
        "t = df.pivot_table(index='family_status',\n",
        "                   values='debt',\n",
        "                   aggfunc=['count','sum','mean']).reset_index()\n",
        "\n",
        "t['%_debt_in_group'] = t['mean'] * 100\n",
        "t['%_distr_debtors'] = t['sum'] / t['sum'].sum() * 100\n",
        "t['%_debt_among_total_appl'] = (t['sum'] / t['count'].sum() * 100)\n",
        "t.sort_values('%_debt_in_group', ascending = True)"
      ],
      "execution_count": null,
      "outputs": [
        {
          "output_type": "execute_result",
          "data": {
            "text/html": [
              "<div>\n",
              "<style scoped>\n",
              "    .dataframe tbody tr th:only-of-type {\n",
              "        vertical-align: middle;\n",
              "    }\n",
              "\n",
              "    .dataframe tbody tr th {\n",
              "        vertical-align: top;\n",
              "    }\n",
              "\n",
              "    .dataframe thead tr th {\n",
              "        text-align: left;\n",
              "    }\n",
              "</style>\n",
              "<table border=\"1\" class=\"dataframe\">\n",
              "  <thead>\n",
              "    <tr>\n",
              "      <th></th>\n",
              "      <th>family_status</th>\n",
              "      <th>count</th>\n",
              "      <th>sum</th>\n",
              "      <th>mean</th>\n",
              "      <th>%_debt_in_group</th>\n",
              "      <th>%_distr_debtors</th>\n",
              "      <th>%_debt_among_total_appl</th>\n",
              "    </tr>\n",
              "    <tr>\n",
              "      <th></th>\n",
              "      <th></th>\n",
              "      <th>debt</th>\n",
              "      <th>debt</th>\n",
              "      <th>debt</th>\n",
              "      <th></th>\n",
              "      <th></th>\n",
              "      <th></th>\n",
              "    </tr>\n",
              "  </thead>\n",
              "  <tbody>\n",
              "    <tr>\n",
              "      <th>4</th>\n",
              "      <td>widow / widower</td>\n",
              "      <td>959</td>\n",
              "      <td>63</td>\n",
              "      <td>0.065693</td>\n",
              "      <td>6.569343</td>\n",
              "      <td>3.618610</td>\n",
              "      <td>0.293419</td>\n",
              "    </tr>\n",
              "    <tr>\n",
              "      <th>1</th>\n",
              "      <td>divorced</td>\n",
              "      <td>1195</td>\n",
              "      <td>85</td>\n",
              "      <td>0.071130</td>\n",
              "      <td>7.112971</td>\n",
              "      <td>4.882252</td>\n",
              "      <td>0.395883</td>\n",
              "    </tr>\n",
              "    <tr>\n",
              "      <th>2</th>\n",
              "      <td>married</td>\n",
              "      <td>12344</td>\n",
              "      <td>931</td>\n",
              "      <td>0.075421</td>\n",
              "      <td>7.542126</td>\n",
              "      <td>53.475014</td>\n",
              "      <td>4.336081</td>\n",
              "    </tr>\n",
              "    <tr>\n",
              "      <th>0</th>\n",
              "      <td>civil partnership</td>\n",
              "      <td>4163</td>\n",
              "      <td>388</td>\n",
              "      <td>0.093202</td>\n",
              "      <td>9.320202</td>\n",
              "      <td>22.286043</td>\n",
              "      <td>1.807089</td>\n",
              "    </tr>\n",
              "    <tr>\n",
              "      <th>3</th>\n",
              "      <td>unmarried</td>\n",
              "      <td>2810</td>\n",
              "      <td>274</td>\n",
              "      <td>0.097509</td>\n",
              "      <td>9.750890</td>\n",
              "      <td>15.738082</td>\n",
              "      <td>1.276140</td>\n",
              "    </tr>\n",
              "  </tbody>\n",
              "</table>\n",
              "</div>"
            ],
            "text/plain": [
              "       family_status  count  ... %_distr_debtors %_debt_among_total_appl\n",
              "                       debt  ...                                        \n",
              "4    widow / widower    959  ...        3.618610                0.293419\n",
              "1           divorced   1195  ...        4.882252                0.395883\n",
              "2            married  12344  ...       53.475014                4.336081\n",
              "0  civil partnership   4163  ...       22.286043                1.807089\n",
              "3          unmarried   2810  ...       15.738082                1.276140\n",
              "\n",
              "[5 rows x 7 columns]"
            ]
          },
          "metadata": {
            "tags": []
          },
          "execution_count": 39
        }
      ]
    },
    {
      "cell_type": "markdown",
      "metadata": {
        "id": "NY3IRP-gtsGm"
      },
      "source": [
        "### Conclusion"
      ]
    },
    {
      "cell_type": "markdown",
      "metadata": {
        "id": "RtJxuBBptsGn"
      },
      "source": [
        "* There is a pattern among those who have been officially married and those who have not.\n",
        "\n",
        "* Unmarried and civil partnerships have a higher rate of debt than compared to those who are married, divorced or widowed when looking at average debt within each category.\n",
        "\n",
        "* Out of the total number of applicants, married ones do have the highest debt rate, but they also have the highest number of loans.\n",
        "\n",
        "* The lowest debt rate in all perspectives - within themselves, amongst other family status groups and compared to all applicants - is in the widow/widower group. However, there are much fewer applicants in this category overall."
      ]
    },
    {
      "cell_type": "markdown",
      "metadata": {
        "id": "YuZLxRqztsGn"
      },
      "source": [
        "- Is there a relation between income level and repaying a loan on time?"
      ]
    },
    {
      "cell_type": "code",
      "metadata": {
        "id": "mU4Kv8RFtsGo",
        "colab": {
          "base_uri": "https://localhost:8080/",
          "height": 337
        },
        "outputId": "4f80d788-d020-4fed-91de-3b546c5016c4"
      },
      "source": [
        "# Visualize the debt status of loan applicants according to income_status\n",
        "# 'low' = 0 < income < 20000\n",
        "# 'middle'=  20000 <= income < 50000:\n",
        "# 'upper' =  50000 <= income < 100000:\n",
        "# 'high' =   income >= 100000 \n",
        "\n",
        "df.groupby(['income_status','debt']).size().unstack().plot(kind='bar',stacked=True,title=\"Debt Status according to Income\")"
      ],
      "execution_count": null,
      "outputs": [
        {
          "output_type": "execute_result",
          "data": {
            "text/plain": [
              "<matplotlib.axes._subplots.AxesSubplot at 0x7fc2678269e8>"
            ]
          },
          "metadata": {
            "tags": []
          },
          "execution_count": 40
        },
        {
          "output_type": "display_data",
          "data": {
            "image/png": "[encoded data removed]",
            "text/plain": [
              "<Figure size 432x288 with 1 Axes>"
            ]
          },
          "metadata": {
            "tags": [],
            "needs_background": "light"
          }
        }
      ]
    },
    {
      "cell_type": "code",
      "metadata": {
        "id": "sBOabo0j8wy-",
        "colab": {
          "base_uri": "https://localhost:8080/",
          "height": 204
        },
        "outputId": "7fd4efe4-4294-4723-a9f6-aec4d286285b"
      },
      "source": [
        "# debt per income level\n",
        "\n",
        "# income_status:\n",
        "# 'low' = 0 < income < 20000\n",
        "# 'middle'=  20000 <= income < 50000:\n",
        "# 'upper' =  50000 <= income < 100000:\n",
        "# 'high' =   income >= 100000  \n",
        " \n",
        "# - count: actual number of loans taken by category\n",
        "# - sum: actual number of loans not repaid by category\n",
        "# - mean, %_debt_in_group: average amount and percentage of loans not repaid within category\n",
        "# - %_distr_debtors: taking only applicants in debt, the percentage\n",
        "#   distribution of loans not repaid by groups of income_status \n",
        "# - %_debt_among_total_appl: percentage of loans not repaid amongst all loan applicants\n",
        "\n",
        "t = df.pivot_table(index='income_status',\n",
        "                   values='debt',\n",
        "                   aggfunc=['count','sum','mean']).reset_index()\n",
        "\n",
        "t['%_debt_in_group'] = t['mean'] * 100\n",
        "t['%_distr_debtors'] = t['sum'] / t['sum'].sum() * 100\n",
        "t['%_debt_among_total_appl'] = (t['sum'] / t['count'].sum() * 100)\n",
        "t.sort_values('%_distr_debtors', ascending = False)"
      ],
      "execution_count": null,
      "outputs": [
        {
          "output_type": "execute_result",
          "data": {
            "text/html": [
              "<div>\n",
              "<style scoped>\n",
              "    .dataframe tbody tr th:only-of-type {\n",
              "        vertical-align: middle;\n",
              "    }\n",
              "\n",
              "    .dataframe tbody tr th {\n",
              "        vertical-align: top;\n",
              "    }\n",
              "\n",
              "    .dataframe thead tr th {\n",
              "        text-align: left;\n",
              "    }\n",
              "</style>\n",
              "<table border=\"1\" class=\"dataframe\">\n",
              "  <thead>\n",
              "    <tr>\n",
              "      <th></th>\n",
              "      <th>income_status</th>\n",
              "      <th>count</th>\n",
              "      <th>sum</th>\n",
              "      <th>mean</th>\n",
              "      <th>%_debt_in_group</th>\n",
              "      <th>%_distr_debtors</th>\n",
              "      <th>%_debt_among_total_appl</th>\n",
              "    </tr>\n",
              "    <tr>\n",
              "      <th></th>\n",
              "      <th></th>\n",
              "      <th>debt</th>\n",
              "      <th>debt</th>\n",
              "      <th>debt</th>\n",
              "      <th></th>\n",
              "      <th></th>\n",
              "      <th></th>\n",
              "    </tr>\n",
              "  </thead>\n",
              "  <tbody>\n",
              "    <tr>\n",
              "      <th>2</th>\n",
              "      <td>middle</td>\n",
              "      <td>10662</td>\n",
              "      <td>871</td>\n",
              "      <td>0.081692</td>\n",
              "      <td>8.169199</td>\n",
              "      <td>55.442393</td>\n",
              "      <td>4.501059</td>\n",
              "    </tr>\n",
              "    <tr>\n",
              "      <th>1</th>\n",
              "      <td>low</td>\n",
              "      <td>7369</td>\n",
              "      <td>608</td>\n",
              "      <td>0.082508</td>\n",
              "      <td>8.250780</td>\n",
              "      <td>38.701464</td>\n",
              "      <td>3.141956</td>\n",
              "    </tr>\n",
              "    <tr>\n",
              "      <th>3</th>\n",
              "      <td>upper</td>\n",
              "      <td>1221</td>\n",
              "      <td>86</td>\n",
              "      <td>0.070434</td>\n",
              "      <td>7.043407</td>\n",
              "      <td>5.474220</td>\n",
              "      <td>0.444421</td>\n",
              "    </tr>\n",
              "    <tr>\n",
              "      <th>0</th>\n",
              "      <td>high</td>\n",
              "      <td>99</td>\n",
              "      <td>6</td>\n",
              "      <td>0.060606</td>\n",
              "      <td>6.060606</td>\n",
              "      <td>0.381922</td>\n",
              "      <td>0.031006</td>\n",
              "    </tr>\n",
              "  </tbody>\n",
              "</table>\n",
              "</div>"
            ],
            "text/plain": [
              "  income_status  count  ... %_distr_debtors %_debt_among_total_appl\n",
              "                  debt  ...                                        \n",
              "2        middle  10662  ...       55.442393                4.501059\n",
              "1           low   7369  ...       38.701464                3.141956\n",
              "3         upper   1221  ...        5.474220                0.444421\n",
              "0          high     99  ...        0.381922                0.031006\n",
              "\n",
              "[4 rows x 7 columns]"
            ]
          },
          "metadata": {
            "tags": []
          },
          "execution_count": 41
        }
      ]
    },
    {
      "cell_type": "markdown",
      "metadata": {
        "id": "F4n2tc4FtsGq"
      },
      "source": [
        "### Conclusion"
      ]
    },
    {
      "cell_type": "markdown",
      "metadata": {
        "id": "AQeHUANftsGq"
      },
      "source": [
        " * The pattern of debt for the income ranges is similar in each perspective: looking at debt within each category, comparing debt of categories to one another, and looking at debt amongst total applicants. \n",
        "  * Middle has highest debt and highest number of loans\n",
        "  * then low, with exception of having higher debt average for its group\n",
        "  * then upper\n",
        "  * with least amount by high range, as well as least number of loans taken\n",
        " * The low and middle class have the greater number of loans, so it is believable that they will have higher number of loans not repaid."
      ]
    },
    {
      "cell_type": "markdown",
      "metadata": {
        "id": "9afv-OnCtsGr"
      },
      "source": [
        "- How do different loan purposes affect on-time repayment of the loan?"
      ]
    },
    {
      "cell_type": "code",
      "metadata": {
        "id": "c8wCb3W8_iH6",
        "colab": {
          "base_uri": "https://localhost:8080/",
          "height": 352
        },
        "outputId": "2d8997b7-a9fc-4818-967c-1798c05cce69"
      },
      "source": [
        "# Visualize the debt status of loan applicants according to purpose of loan\n",
        "df.groupby(['purpose_category','debt']).size().unstack().plot(kind='bar',stacked=True,title=\"Debt Status according to Purpose\")"
      ],
      "execution_count": null,
      "outputs": [
        {
          "output_type": "execute_result",
          "data": {
            "text/plain": [
              "<matplotlib.axes._subplots.AxesSubplot at 0x7fc2677a0048>"
            ]
          },
          "metadata": {
            "tags": []
          },
          "execution_count": 42
        },
        {
          "output_type": "display_data",
          "data": {
            "image/png": "[encoded data removed]",
            "text/plain": [
              "<Figure size 432x288 with 1 Axes>"
            ]
          },
          "metadata": {
            "tags": [],
            "needs_background": "light"
          }
        }
      ]
    },
    {
      "cell_type": "code",
      "metadata": {
        "id": "Zvh7HAE1tsGr",
        "colab": {
          "base_uri": "https://localhost:8080/",
          "height": 204
        },
        "outputId": "795a8198-e087-4ccf-8834-dc713b2c047c"
      },
      "source": [
        "# debt according to purpose of loan\n",
        "\n",
        "# - count: actual number of loans taken by category\n",
        "# - sum: actual number of loans not repaid by category\n",
        "# - mean, %_debt_in_group: average amount and percentage of loans not repaid per category\n",
        "# - %_distr_debtors: taking only applicants in debt, the percentage\n",
        "#   distribution of loans not repaid by categories of purpose \n",
        "# - %_debt_among_total_appl: percentage of loans not repaid amongst all loan applicants\n",
        "\n",
        "t = df.pivot_table(index='purpose_category',\n",
        "                   values='debt',\n",
        "                   aggfunc=['count','sum','mean']).reset_index()\n",
        "\n",
        "t['%_debt_in_group'] = t['mean'] * 100\n",
        "t['%_distr_debtors'] = t['sum'] / t['sum'].sum() * 100\n",
        "t['%_debt_among_total_appl'] = (t['sum'] / t['count'].sum() * 100)\n",
        "t.sort_values('%_debt_in_group')"
      ],
      "execution_count": null,
      "outputs": [
        {
          "output_type": "execute_result",
          "data": {
            "text/html": [
              "<div>\n",
              "<style scoped>\n",
              "    .dataframe tbody tr th:only-of-type {\n",
              "        vertical-align: middle;\n",
              "    }\n",
              "\n",
              "    .dataframe tbody tr th {\n",
              "        vertical-align: top;\n",
              "    }\n",
              "\n",
              "    .dataframe thead tr th {\n",
              "        text-align: left;\n",
              "    }\n",
              "</style>\n",
              "<table border=\"1\" class=\"dataframe\">\n",
              "  <thead>\n",
              "    <tr>\n",
              "      <th></th>\n",
              "      <th>purpose_category</th>\n",
              "      <th>count</th>\n",
              "      <th>sum</th>\n",
              "      <th>mean</th>\n",
              "      <th>%_debt_in_group</th>\n",
              "      <th>%_distr_debtors</th>\n",
              "      <th>%_debt_among_total_appl</th>\n",
              "    </tr>\n",
              "    <tr>\n",
              "      <th></th>\n",
              "      <th></th>\n",
              "      <th>debt</th>\n",
              "      <th>debt</th>\n",
              "      <th>debt</th>\n",
              "      <th></th>\n",
              "      <th></th>\n",
              "      <th></th>\n",
              "    </tr>\n",
              "  </thead>\n",
              "  <tbody>\n",
              "    <tr>\n",
              "      <th>2</th>\n",
              "      <td>property</td>\n",
              "      <td>10814</td>\n",
              "      <td>782</td>\n",
              "      <td>0.072314</td>\n",
              "      <td>7.231367</td>\n",
              "      <td>44.916715</td>\n",
              "      <td>3.642122</td>\n",
              "    </tr>\n",
              "    <tr>\n",
              "      <th>3</th>\n",
              "      <td>wedding</td>\n",
              "      <td>2335</td>\n",
              "      <td>186</td>\n",
              "      <td>0.079657</td>\n",
              "      <td>7.965739</td>\n",
              "      <td>10.683515</td>\n",
              "      <td>0.866285</td>\n",
              "    </tr>\n",
              "    <tr>\n",
              "      <th>1</th>\n",
              "      <td>education</td>\n",
              "      <td>4014</td>\n",
              "      <td>370</td>\n",
              "      <td>0.092177</td>\n",
              "      <td>9.217738</td>\n",
              "      <td>21.252154</td>\n",
              "      <td>1.723255</td>\n",
              "    </tr>\n",
              "    <tr>\n",
              "      <th>0</th>\n",
              "      <td>car</td>\n",
              "      <td>4308</td>\n",
              "      <td>403</td>\n",
              "      <td>0.093547</td>\n",
              "      <td>9.354689</td>\n",
              "      <td>23.147616</td>\n",
              "      <td>1.876950</td>\n",
              "    </tr>\n",
              "  </tbody>\n",
              "</table>\n",
              "</div>"
            ],
            "text/plain": [
              "  purpose_category  count  ... %_distr_debtors %_debt_among_total_appl\n",
              "                     debt  ...                                        \n",
              "2         property  10814  ...       44.916715                3.642122\n",
              "3          wedding   2335  ...       10.683515                0.866285\n",
              "1        education   4014  ...       21.252154                1.723255\n",
              "0              car   4308  ...       23.147616                1.876950\n",
              "\n",
              "[4 rows x 7 columns]"
            ]
          },
          "metadata": {
            "tags": []
          },
          "execution_count": 43
        }
      ]
    },
    {
      "cell_type": "markdown",
      "metadata": {
        "id": "kEYissk-tsGt"
      },
      "source": [
        "### Conclusion"
      ]
    },
    {
      "cell_type": "markdown",
      "metadata": {
        "id": "F17O_xwwtsGu"
      },
      "source": [
        " * Property has the lowest average of debt amongst groups but it has the highest percentage of loan debts between the groups and overall. It also has the highest number of loans taken out. \n",
        "  * Interestingly, when looking at total number of applicants, property loans have the highest rate of default, yet they also have the highest number of loans.\n",
        " * Car and education have very similar rates of debts to each other throughout all perspectives: the average rate of debt for its group, percentage of debt amongst all purpose categories and amongst all loan applicants. They have the highest rate of debt average compared to averages of other groups.\n",
        " * Wedding has a consistently low rate of debt by average, amongst all debtors by purpose category, and overall applications.\n"
      ]
    },
    {
      "cell_type": "markdown",
      "metadata": {
        "id": "ul4MdiE2tsGv"
      },
      "source": [
        "### Step 4. General conclusion"
      ]
    },
    {
      "cell_type": "code",
      "metadata": {
        "id": "cpiW8ixAqqji"
      },
      "source": [
        "# organize applicants in pivot table t with multiple categories to get sense of debt\n",
        "\n",
        "# count: number of loan applicants with same situation:\n",
        "#   -purpose, income, num of children, family status\n",
        "# sum: number of loan applicants who did not repay loan in this grouping\n",
        "# mean, %_debt_in_group: average of loans not repaid among this grouping\n",
        "# %_total_appl: percentage of loans taken forby this grouping compared to all loan applicants\n",
        "\n",
        "t = df.pivot_table(index=['purpose_category','income_status','children','family_status'],\n",
        "                   values='debt',\n",
        "                   aggfunc=['count','sum','mean']).reset_index()\n",
        "t['%_debt_in_group'] = t['mean'] * 100\n",
        "t['%_total_appl'] = t['count']/t['count'].sum() * 100"
      ],
      "execution_count": null,
      "outputs": []
    },
    {
      "cell_type": "code",
      "metadata": {
        "id": "3FSmy96igMYA",
        "colab": {
          "base_uri": "https://localhost:8080/",
          "height": 390
        },
        "outputId": "1c66dfdb-fb73-4c47-870f-86383234eb69"
      },
      "source": [
        "# Applicants with lowest debt within grouping that have highest loan applications\n",
        "\n",
        "# First 10 rows of pivot table t sorted by\n",
        "# lowest debt within its grouping\n",
        "# and highest percentage of loan applications, which also correlates to highest\n",
        "# number of loan applicants\n",
        "\n",
        "t.sort_values(['%_debt_in_group', '%_total_appl'], ascending=[1,0]).head(10)\n",
        "\n"
      ],
      "execution_count": null,
      "outputs": [
        {
          "output_type": "execute_result",
          "data": {
            "text/html": [
              "<div>\n",
              "<style scoped>\n",
              "    .dataframe tbody tr th:only-of-type {\n",
              "        vertical-align: middle;\n",
              "    }\n",
              "\n",
              "    .dataframe tbody tr th {\n",
              "        vertical-align: top;\n",
              "    }\n",
              "\n",
              "    .dataframe thead tr th {\n",
              "        text-align: left;\n",
              "    }\n",
              "</style>\n",
              "<table border=\"1\" class=\"dataframe\">\n",
              "  <thead>\n",
              "    <tr>\n",
              "      <th></th>\n",
              "      <th>purpose_category</th>\n",
              "      <th>income_status</th>\n",
              "      <th>children</th>\n",
              "      <th>family_status</th>\n",
              "      <th>count</th>\n",
              "      <th>sum</th>\n",
              "      <th>mean</th>\n",
              "      <th>%_debt_in_group</th>\n",
              "      <th>%_total_appl</th>\n",
              "    </tr>\n",
              "    <tr>\n",
              "      <th></th>\n",
              "      <th></th>\n",
              "      <th></th>\n",
              "      <th></th>\n",
              "      <th></th>\n",
              "      <th>debt</th>\n",
              "      <th>debt</th>\n",
              "      <th>debt</th>\n",
              "      <th></th>\n",
              "      <th></th>\n",
              "    </tr>\n",
              "  </thead>\n",
              "  <tbody>\n",
              "    <tr>\n",
              "      <th>95</th>\n",
              "      <td>education</td>\n",
              "      <td>middle</td>\n",
              "      <td>1.0</td>\n",
              "      <td>divorced</td>\n",
              "      <td>26</td>\n",
              "      <td>0</td>\n",
              "      <td>0.0</td>\n",
              "      <td>0.0</td>\n",
              "      <td>0.135135</td>\n",
              "    </tr>\n",
              "    <tr>\n",
              "      <th>143</th>\n",
              "      <td>property</td>\n",
              "      <td>low</td>\n",
              "      <td>1.0</td>\n",
              "      <td>widow / widower</td>\n",
              "      <td>23</td>\n",
              "      <td>0</td>\n",
              "      <td>0.0</td>\n",
              "      <td>0.0</td>\n",
              "      <td>0.119543</td>\n",
              "    </tr>\n",
              "    <tr>\n",
              "      <th>113</th>\n",
              "      <td>education</td>\n",
              "      <td>upper</td>\n",
              "      <td>0.0</td>\n",
              "      <td>unmarried</td>\n",
              "      <td>22</td>\n",
              "      <td>0</td>\n",
              "      <td>0.0</td>\n",
              "      <td>0.0</td>\n",
              "      <td>0.114345</td>\n",
              "    </tr>\n",
              "    <tr>\n",
              "      <th>13</th>\n",
              "      <td>car</td>\n",
              "      <td>low</td>\n",
              "      <td>1.0</td>\n",
              "      <td>divorced</td>\n",
              "      <td>20</td>\n",
              "      <td>0</td>\n",
              "      <td>0.0</td>\n",
              "      <td>0.0</td>\n",
              "      <td>0.103950</td>\n",
              "    </tr>\n",
              "    <tr>\n",
              "      <th>168</th>\n",
              "      <td>property</td>\n",
              "      <td>middle</td>\n",
              "      <td>2.0</td>\n",
              "      <td>divorced</td>\n",
              "      <td>19</td>\n",
              "      <td>0</td>\n",
              "      <td>0.0</td>\n",
              "      <td>0.0</td>\n",
              "      <td>0.098753</td>\n",
              "    </tr>\n",
              "    <tr>\n",
              "      <th>210</th>\n",
              "      <td>wedding</td>\n",
              "      <td>middle</td>\n",
              "      <td>3.0</td>\n",
              "      <td>civil partnership</td>\n",
              "      <td>16</td>\n",
              "      <td>0</td>\n",
              "      <td>0.0</td>\n",
              "      <td>0.0</td>\n",
              "      <td>0.083160</td>\n",
              "    </tr>\n",
              "    <tr>\n",
              "      <th>49</th>\n",
              "      <td>car</td>\n",
              "      <td>upper</td>\n",
              "      <td>0.0</td>\n",
              "      <td>divorced</td>\n",
              "      <td>12</td>\n",
              "      <td>0</td>\n",
              "      <td>0.0</td>\n",
              "      <td>0.0</td>\n",
              "      <td>0.062370</td>\n",
              "    </tr>\n",
              "    <tr>\n",
              "      <th>147</th>\n",
              "      <td>property</td>\n",
              "      <td>low</td>\n",
              "      <td>2.0</td>\n",
              "      <td>unmarried</td>\n",
              "      <td>11</td>\n",
              "      <td>0</td>\n",
              "      <td>0.0</td>\n",
              "      <td>0.0</td>\n",
              "      <td>0.057173</td>\n",
              "    </tr>\n",
              "    <tr>\n",
              "      <th>187</th>\n",
              "      <td>property</td>\n",
              "      <td>upper</td>\n",
              "      <td>1.0</td>\n",
              "      <td>divorced</td>\n",
              "      <td>11</td>\n",
              "      <td>0</td>\n",
              "      <td>0.0</td>\n",
              "      <td>0.0</td>\n",
              "      <td>0.057173</td>\n",
              "    </tr>\n",
              "    <tr>\n",
              "      <th>86</th>\n",
              "      <td>education</td>\n",
              "      <td>low</td>\n",
              "      <td>3.0</td>\n",
              "      <td>married</td>\n",
              "      <td>10</td>\n",
              "      <td>0</td>\n",
              "      <td>0.0</td>\n",
              "      <td>0.0</td>\n",
              "      <td>0.051975</td>\n",
              "    </tr>\n",
              "  </tbody>\n",
              "</table>\n",
              "</div>"
            ],
            "text/plain": [
              "    purpose_category income_status children  ... mean %_debt_in_group %_total_appl\n",
              "                                             ... debt                             \n",
              "95         education        middle      1.0  ...  0.0             0.0     0.135135\n",
              "143         property           low      1.0  ...  0.0             0.0     0.119543\n",
              "113        education         upper      0.0  ...  0.0             0.0     0.114345\n",
              "13               car           low      1.0  ...  0.0             0.0     0.103950\n",
              "168         property        middle      2.0  ...  0.0             0.0     0.098753\n",
              "210          wedding        middle      3.0  ...  0.0             0.0     0.083160\n",
              "49               car         upper      0.0  ...  0.0             0.0     0.062370\n",
              "147         property           low      2.0  ...  0.0             0.0     0.057173\n",
              "187         property         upper      1.0  ...  0.0             0.0     0.057173\n",
              "86         education           low      3.0  ...  0.0             0.0     0.051975\n",
              "\n",
              "[10 rows x 9 columns]"
            ]
          },
          "metadata": {
            "tags": []
          },
          "execution_count": 45
        }
      ]
    },
    {
      "cell_type": "code",
      "metadata": {
        "id": "rcj0SxP6Wc6Z",
        "colab": {
          "base_uri": "https://localhost:8080/",
          "height": 34
        },
        "outputId": "66cf5398-f669-471d-e779-bc393b175266"
      },
      "source": [
        "# The number of combinations of categories where applicants have zero debt\n",
        "\n",
        "t[(t['%_debt_in_group'] == 0)]['%_debt_in_group'].count()"
      ],
      "execution_count": null,
      "outputs": [
        {
          "output_type": "execute_result",
          "data": {
            "text/plain": [
              "91"
            ]
          },
          "metadata": {
            "tags": []
          },
          "execution_count": 46
        }
      ]
    },
    {
      "cell_type": "code",
      "metadata": {
        "id": "82h9xHb78bSB",
        "colab": {
          "base_uri": "https://localhost:8080/",
          "height": 700
        },
        "outputId": "69f03715-cf16-42e8-cb9c-2795f02c2de6"
      },
      "source": [
        "# Applicants with highest average debt amongst its grouping sorted then by the\n",
        "# number of loan applications\n",
        "\n",
        "# First 20 rows of pivot table t sorted by\n",
        "# highest average debt within its grouping\n",
        "# and highest percentage of loan applications, which also correlates to highest\n",
        "# number of loan applicants\n",
        "t.sort_values(['%_debt_in_group', '%_total_appl'], ascending=[0,0]).head(20)"
      ],
      "execution_count": null,
      "outputs": [
        {
          "output_type": "execute_result",
          "data": {
            "text/html": [
              "<div>\n",
              "<style scoped>\n",
              "    .dataframe tbody tr th:only-of-type {\n",
              "        vertical-align: middle;\n",
              "    }\n",
              "\n",
              "    .dataframe tbody tr th {\n",
              "        vertical-align: top;\n",
              "    }\n",
              "\n",
              "    .dataframe thead tr th {\n",
              "        text-align: left;\n",
              "    }\n",
              "</style>\n",
              "<table border=\"1\" class=\"dataframe\">\n",
              "  <thead>\n",
              "    <tr>\n",
              "      <th></th>\n",
              "      <th>purpose_category</th>\n",
              "      <th>income_status</th>\n",
              "      <th>children</th>\n",
              "      <th>family_status</th>\n",
              "      <th>count</th>\n",
              "      <th>sum</th>\n",
              "      <th>mean</th>\n",
              "      <th>%_debt_in_group</th>\n",
              "      <th>%_total_appl</th>\n",
              "    </tr>\n",
              "    <tr>\n",
              "      <th></th>\n",
              "      <th></th>\n",
              "      <th></th>\n",
              "      <th></th>\n",
              "      <th></th>\n",
              "      <th>debt</th>\n",
              "      <th>debt</th>\n",
              "      <th>debt</th>\n",
              "      <th></th>\n",
              "      <th></th>\n",
              "    </tr>\n",
              "  </thead>\n",
              "  <tbody>\n",
              "    <tr>\n",
              "      <th>65</th>\n",
              "      <td>education</td>\n",
              "      <td>high</td>\n",
              "      <td>0.0</td>\n",
              "      <td>unmarried</td>\n",
              "      <td>1</td>\n",
              "      <td>1</td>\n",
              "      <td>1.000000</td>\n",
              "      <td>100.000000</td>\n",
              "      <td>0.005198</td>\n",
              "    </tr>\n",
              "    <tr>\n",
              "      <th>155</th>\n",
              "      <td>property</td>\n",
              "      <td>low</td>\n",
              "      <td>4.0</td>\n",
              "      <td>unmarried</td>\n",
              "      <td>1</td>\n",
              "      <td>1</td>\n",
              "      <td>1.000000</td>\n",
              "      <td>100.000000</td>\n",
              "      <td>0.005198</td>\n",
              "    </tr>\n",
              "    <tr>\n",
              "      <th>175</th>\n",
              "      <td>property</td>\n",
              "      <td>middle</td>\n",
              "      <td>3.0</td>\n",
              "      <td>unmarried</td>\n",
              "      <td>1</td>\n",
              "      <td>1</td>\n",
              "      <td>1.000000</td>\n",
              "      <td>100.000000</td>\n",
              "      <td>0.005198</td>\n",
              "    </tr>\n",
              "    <tr>\n",
              "      <th>195</th>\n",
              "      <td>property</td>\n",
              "      <td>upper</td>\n",
              "      <td>2.0</td>\n",
              "      <td>widow / widower</td>\n",
              "      <td>1</td>\n",
              "      <td>1</td>\n",
              "      <td>1.000000</td>\n",
              "      <td>100.000000</td>\n",
              "      <td>0.005198</td>\n",
              "    </tr>\n",
              "    <tr>\n",
              "      <th>205</th>\n",
              "      <td>wedding</td>\n",
              "      <td>low</td>\n",
              "      <td>3.0</td>\n",
              "      <td>civil partnership</td>\n",
              "      <td>8</td>\n",
              "      <td>4</td>\n",
              "      <td>0.500000</td>\n",
              "      <td>50.000000</td>\n",
              "      <td>0.041580</td>\n",
              "    </tr>\n",
              "    <tr>\n",
              "      <th>63</th>\n",
              "      <td>education</td>\n",
              "      <td>high</td>\n",
              "      <td>0.0</td>\n",
              "      <td>civil partnership</td>\n",
              "      <td>2</td>\n",
              "      <td>1</td>\n",
              "      <td>0.500000</td>\n",
              "      <td>50.000000</td>\n",
              "      <td>0.010395</td>\n",
              "    </tr>\n",
              "    <tr>\n",
              "      <th>104</th>\n",
              "      <td>education</td>\n",
              "      <td>middle</td>\n",
              "      <td>3.0</td>\n",
              "      <td>civil partnership</td>\n",
              "      <td>2</td>\n",
              "      <td>1</td>\n",
              "      <td>0.500000</td>\n",
              "      <td>50.000000</td>\n",
              "      <td>0.010395</td>\n",
              "    </tr>\n",
              "    <tr>\n",
              "      <th>191</th>\n",
              "      <td>property</td>\n",
              "      <td>upper</td>\n",
              "      <td>2.0</td>\n",
              "      <td>civil partnership</td>\n",
              "      <td>5</td>\n",
              "      <td>2</td>\n",
              "      <td>0.400000</td>\n",
              "      <td>40.000000</td>\n",
              "      <td>0.025988</td>\n",
              "    </tr>\n",
              "    <tr>\n",
              "      <th>41</th>\n",
              "      <td>car</td>\n",
              "      <td>middle</td>\n",
              "      <td>2.0</td>\n",
              "      <td>unmarried</td>\n",
              "      <td>11</td>\n",
              "      <td>4</td>\n",
              "      <td>0.363636</td>\n",
              "      <td>36.363636</td>\n",
              "      <td>0.057173</td>\n",
              "    </tr>\n",
              "    <tr>\n",
              "      <th>18</th>\n",
              "      <td>car</td>\n",
              "      <td>low</td>\n",
              "      <td>2.0</td>\n",
              "      <td>divorced</td>\n",
              "      <td>3</td>\n",
              "      <td>1</td>\n",
              "      <td>0.333333</td>\n",
              "      <td>33.333333</td>\n",
              "      <td>0.015593</td>\n",
              "    </tr>\n",
              "    <tr>\n",
              "      <th>43</th>\n",
              "      <td>car</td>\n",
              "      <td>middle</td>\n",
              "      <td>3.0</td>\n",
              "      <td>civil partnership</td>\n",
              "      <td>3</td>\n",
              "      <td>1</td>\n",
              "      <td>0.333333</td>\n",
              "      <td>33.333333</td>\n",
              "      <td>0.015593</td>\n",
              "    </tr>\n",
              "    <tr>\n",
              "      <th>124</th>\n",
              "      <td>property</td>\n",
              "      <td>high</td>\n",
              "      <td>0.0</td>\n",
              "      <td>civil partnership</td>\n",
              "      <td>3</td>\n",
              "      <td>1</td>\n",
              "      <td>0.333333</td>\n",
              "      <td>33.333333</td>\n",
              "      <td>0.015593</td>\n",
              "    </tr>\n",
              "    <tr>\n",
              "      <th>54</th>\n",
              "      <td>car</td>\n",
              "      <td>upper</td>\n",
              "      <td>1.0</td>\n",
              "      <td>divorced</td>\n",
              "      <td>4</td>\n",
              "      <td>1</td>\n",
              "      <td>0.250000</td>\n",
              "      <td>25.000000</td>\n",
              "      <td>0.020790</td>\n",
              "    </tr>\n",
              "    <tr>\n",
              "      <th>36</th>\n",
              "      <td>car</td>\n",
              "      <td>middle</td>\n",
              "      <td>1.0</td>\n",
              "      <td>unmarried</td>\n",
              "      <td>48</td>\n",
              "      <td>10</td>\n",
              "      <td>0.208333</td>\n",
              "      <td>20.833333</td>\n",
              "      <td>0.249480</td>\n",
              "    </tr>\n",
              "    <tr>\n",
              "      <th>75</th>\n",
              "      <td>education</td>\n",
              "      <td>low</td>\n",
              "      <td>1.0</td>\n",
              "      <td>civil partnership</td>\n",
              "      <td>34</td>\n",
              "      <td>7</td>\n",
              "      <td>0.205882</td>\n",
              "      <td>20.588235</td>\n",
              "      <td>0.176715</td>\n",
              "    </tr>\n",
              "    <tr>\n",
              "      <th>80</th>\n",
              "      <td>education</td>\n",
              "      <td>low</td>\n",
              "      <td>2.0</td>\n",
              "      <td>civil partnership</td>\n",
              "      <td>15</td>\n",
              "      <td>3</td>\n",
              "      <td>0.200000</td>\n",
              "      <td>20.000000</td>\n",
              "      <td>0.077963</td>\n",
              "    </tr>\n",
              "    <tr>\n",
              "      <th>47</th>\n",
              "      <td>car</td>\n",
              "      <td>middle</td>\n",
              "      <td>4.0</td>\n",
              "      <td>married</td>\n",
              "      <td>5</td>\n",
              "      <td>1</td>\n",
              "      <td>0.200000</td>\n",
              "      <td>20.000000</td>\n",
              "      <td>0.025988</td>\n",
              "    </tr>\n",
              "    <tr>\n",
              "      <th>56</th>\n",
              "      <td>car</td>\n",
              "      <td>upper</td>\n",
              "      <td>1.0</td>\n",
              "      <td>unmarried</td>\n",
              "      <td>5</td>\n",
              "      <td>1</td>\n",
              "      <td>0.200000</td>\n",
              "      <td>20.000000</td>\n",
              "      <td>0.025988</td>\n",
              "    </tr>\n",
              "    <tr>\n",
              "      <th>171</th>\n",
              "      <td>property</td>\n",
              "      <td>middle</td>\n",
              "      <td>2.0</td>\n",
              "      <td>widow / widower</td>\n",
              "      <td>5</td>\n",
              "      <td>1</td>\n",
              "      <td>0.200000</td>\n",
              "      <td>20.000000</td>\n",
              "      <td>0.025988</td>\n",
              "    </tr>\n",
              "    <tr>\n",
              "      <th>173</th>\n",
              "      <td>property</td>\n",
              "      <td>middle</td>\n",
              "      <td>3.0</td>\n",
              "      <td>divorced</td>\n",
              "      <td>5</td>\n",
              "      <td>1</td>\n",
              "      <td>0.200000</td>\n",
              "      <td>20.000000</td>\n",
              "      <td>0.025988</td>\n",
              "    </tr>\n",
              "  </tbody>\n",
              "</table>\n",
              "</div>"
            ],
            "text/plain": [
              "    purpose_category income_status  ... %_debt_in_group %_total_appl\n",
              "                                    ...                             \n",
              "65         education          high  ...      100.000000     0.005198\n",
              "155         property           low  ...      100.000000     0.005198\n",
              "175         property        middle  ...      100.000000     0.005198\n",
              "195         property         upper  ...      100.000000     0.005198\n",
              "205          wedding           low  ...       50.000000     0.041580\n",
              "63         education          high  ...       50.000000     0.010395\n",
              "104        education        middle  ...       50.000000     0.010395\n",
              "191         property         upper  ...       40.000000     0.025988\n",
              "41               car        middle  ...       36.363636     0.057173\n",
              "18               car           low  ...       33.333333     0.015593\n",
              "43               car        middle  ...       33.333333     0.015593\n",
              "124         property          high  ...       33.333333     0.015593\n",
              "54               car         upper  ...       25.000000     0.020790\n",
              "36               car        middle  ...       20.833333     0.249480\n",
              "75         education           low  ...       20.588235     0.176715\n",
              "80         education           low  ...       20.000000     0.077963\n",
              "47               car        middle  ...       20.000000     0.025988\n",
              "56               car         upper  ...       20.000000     0.025988\n",
              "171         property        middle  ...       20.000000     0.025988\n",
              "173         property        middle  ...       20.000000     0.025988\n",
              "\n",
              "[20 rows x 9 columns]"
            ]
          },
          "metadata": {
            "tags": []
          },
          "execution_count": 47
        }
      ]
    },
    {
      "cell_type": "code",
      "metadata": {
        "id": "lnSF2UWZbJJ1",
        "colab": {
          "base_uri": "https://localhost:8080/",
          "height": 51
        },
        "outputId": "71b77545-7c6a-40bc-8aef-620520170a72"
      },
      "source": [
        "# calculate percentage of debt\n",
        "\n",
        "print('% of applicants that have repaid loan: {:.0%}'.format(df[df['debt']==0]['debt'].count() / df['debt'].count()))\n",
        "print('% of applicants that have NOT repaid loan: {:.0%}'.format(df[df['debt']==1]['debt'].count() / df['debt'].count()))"
      ],
      "execution_count": null,
      "outputs": [
        {
          "output_type": "stream",
          "text": [
            "% of applicants that have repaid loan: 92%\n",
            "% of applicants that have NOT repaid loan: 8%\n"
          ],
          "name": "stdout"
        }
      ]
    },
    {
      "cell_type": "markdown",
      "metadata": {
        "id": "OQDY9DfNtsGv"
      },
      "source": [
        "* 92% of loans have been repaid\n",
        "* 8% of loans have not been repaid\n",
        "\n",
        "\n",
        " * The following categories have the lowest debt rates:\n",
        "   * applicants with 5 children\n",
        "   * widowers\n",
        "   * applicants with high range income\n",
        "   * those who want to use loan for property.\n",
        "\n",
        "* Looking at categories within individual columns, a common pattern was many columns with relatively low debt averages within their type had the highest debt amount overall; they generally also had the highest number of loans as compared to other categories within the column.\n",
        "\n",
        "* Further Investigation:\n",
        "  * analysis needs to be done to look at patterns of multiple combinations that may be helpful.\n",
        "\n",
        " * Applicant with lowest debt\n",
        "   *  Looking at data of 91 Applicants with zero debt, the applicants spanned many categories.  The patterns observed by looking at each column individually does not reflect when combining multiple columns together.\n",
        "\n",
        " * Highest Debt\n",
        "   * Those with the highest rate of debt have been given the least number of loans.  Since there are only 4 records of delinquency for these multiple column combinations, these applicants do not reflect the broader number of applicants.  \n",
        "  \n",
        "\n",
        "\n",
        "\n",
        "\n"
      ]
    },
    {
      "cell_type": "markdown",
      "metadata": {
        "id": "ASi3ZCPItsGw"
      },
      "source": [
        "### Project Readiness Checklist\n",
        "\n",
        "Put 'x' in the completed points. Then press Shift + Enter."
      ]
    },
    {
      "cell_type": "markdown",
      "metadata": {
        "id": "MfVHY8uQtsGw"
      },
      "source": [
        "- [x]  file open;\n",
        "- [x]  file examined;\n",
        "- [x]  missing values defined;\n",
        "- [x]  missing values are filled;\n",
        "- [x]  an explanation of which missing value types were detected;\n",
        "- [x]  explanation for the possible causes of missing values;\n",
        "- [-]  an explanation of how the blanks are filled;\n",
        "- [-]  replaced the real data type with an integer;\n",
        "- [-]  an explanation of WHY NOT TO change the data type and why;\n",
        "- [x]  duplicates deleted;\n",
        "- [x]  an explanation of which method is used to find and remove duplicates;\n",
        "- [x]  description of the possible reasons for the appearance of duplicates in the data;\n",
        "- [x]  data is categorized;\n",
        "- [x]  an explanation of the principle of data categorization;\n",
        "- [x]  an answer to the question \"Is there a relation between having kids and repaying a loan on time?\";\n",
        "- [x]  an answer to the question \" Is there a relation between marital status and repaying a loan on time?\";\n",
        "- [x]   an answer to the question \" Is there a relation between income level and repaying a loan on time?\";\n",
        "- [x]  an answer to the question \" How do different loan purposes affect on-time repayment of the loan?\"\n",
        "- [x]  conclusions are present on each stage;\n",
        "- [x]  a general conclusion is made."
      ]
    },
    {
      "cell_type": "code",
      "metadata": {
        "id": "yncKJqgztsGx"
      },
      "source": [
        ""
      ],
      "execution_count": null,
      "outputs": []
    }
  ]
}